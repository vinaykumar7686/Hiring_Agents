{
 "cells": [
  {
   "cell_type": "markdown",
   "metadata": {},
   "source": [
    "# Problem Statement\n",
    "Your client is a financial distribution company. Over the last 10 years, they have created an offline distribution channel across the country. They sell financial products to consumers by hiring agents in their network. These agents are freelancers and get a commission when they make a product sale.\n",
    "\n",
    "Overview of your client onboarding process\n",
    "\n",
    "    The managers at your client are primarily responsible for recruiting agents. Once a manager has identified a potential applicant he would explain the business opportunity to the agent. Once the agent provides the consent, an application is made to your client to become an agent. In the next 3 months, this potential agent has to undergo a 7 days training at your client's branch (about sales processes and various products) and clear a subsequent examination in order to become an agent.\n",
    "\n",
    "The problem - who are the best agents?\n",
    "\n",
    "    As it is obvious in the above process, there is a significant investment which your client makes in identifying, training, and recruiting these agents. However, there are a set of agents who do not bring in the expected resultant business. Your client is looking for help from data scientists like you to help them provide insights using their past recruitment data. They want to predict the target variable for each potential agent which would help them identify the right agents to hire.\n",
    "\n",
    "Key Points: The evaluation metric to be used is ROC-AUC.\n",
    "\n",
    "Data \n",
    "Variable\tDefinition\n",
    "ID\tUnique Application ID\n",
    "Office_PIN\tPINCODE of Your client's Offices\n",
    "Applicant_City_PIN\tPINCODE of Applicant Address\n",
    "Applicant_Gender\tApplicant's Gender\n",
    "Applicant_Marital_Status\tApplicant's Marital Status\n",
    "Applicant_Occupation\tApplicant's Occupation\n",
    "Applicant_Qualification\tApplicant's Educational Qualification\n",
    "Manager_Joining_Designation\tManager's Joining Designation\n",
    "Manager_Current_Designation\tManager's Designation at the time of application sourcing\n",
    "Manager_Grade\tManager's Grade\n",
    "Manager_Status\tCurrent Employment Status (Probation/Confirmation)\n",
    "Manager_Gender\tManager's Gender\n",
    "Manager_Num_Application\tNumber of Applications sourced in the last 3 months by the Manager\n",
    "Manager_Num_Coded\tNumber of agents recruited by the manager in the last 3 months\n",
    "Manager_Business\tAmount of business sourced by the manager in the last 3 months\n",
    "Manager_Num_Products\tNumber of products sold by the manager in the last 3 months\n",
    "Manager_Business2\tAmount of business sourced by the manager in the last 3 months excluding business from their Category A advisor\n",
    "Manager_Num_Products2\tNumber of products sold by the manager in the last 3 months excluding business from their Category A advisor\n",
    "Business_Sourced(Target)\tBusiness sourced by the applicant within 3 months [1/0] of recruitment\n",
    "\n"
   ]
  },
  {
   "cell_type": "code",
   "execution_count": 1,
   "metadata": {},
   "outputs": [],
   "source": [
    "# Importing essesntial Libraries\n",
    "import pandas as pd, numpy as np, matplotlib.pyplot as plt"
   ]
  },
  {
   "cell_type": "code",
   "execution_count": 2,
   "metadata": {},
   "outputs": [
    {
     "output_type": "execute_result",
     "data": {
      "text/plain": "           ID  Office_PIN  Applicant_City_PIN Applicant_Gender  \\\n0  FIN1000001      842001              844120                M   \n1  FIN1000002      842001              844111                M   \n2  FIN1000003      800001              844101                M   \n3  FIN1000004      814112              814112                M   \n4  FIN1000005      814112              815351                M   \n5  FIN1000006      814112              814114                M   \n6  FIN1000007      842001              844118                M   \n7  FIN1000008      800001              844103                M   \n8  FIN1000009      209625              206451                M   \n9  FIN1000010      211001              212218                M   \n\n  Applicant_Marital_Status Applicant_Occupation Applicant_Qualification  \\\n0                        M               Others                Graduate   \n1                        S               Others               Class XII   \n2                        M             Business               Class XII   \n3                        S             Salaried               Class XII   \n4                        M               Others               Class XII   \n5                        S               Others               Class XII   \n6                        M             Business               Class XII   \n7                        M             Salaried               Class XII   \n8                        M             Business                Graduate   \n9                        M               Others               Class XII   \n\n  Manager_Joining_Designation Manager_Current_Designation  Manager_Grade  \\\n0                     Level 1                     Level 2            3.0   \n1                     Level 1                     Level 2            3.0   \n2                     Level 1                     Level 1            2.0   \n3                     Level 1                     Level 3            4.0   \n4                     Level 1                     Level 1            2.0   \n5                     Level 1                     Level 1            2.0   \n6                     Level 1                     Level 1            2.0   \n7                     Level 1                     Level 1            2.0   \n8                     Level 1                     Level 2            3.0   \n9                     Level 1                     Level 3            4.0   \n\n  Manager_Status Manager_Gender  Manager_Num_Application  Manager_Num_Coded  \\\n0   Confirmation              M                      2.0                1.0   \n1   Confirmation              M                      2.0                1.0   \n2   Confirmation              M                      0.0                0.0   \n3   Confirmation              F                      0.0                0.0   \n4   Confirmation              M                      2.0                1.0   \n5   Confirmation              M                      0.0                0.0   \n6   Confirmation              M                      0.0                0.0   \n7   Confirmation              M                      5.0                4.0   \n8   Confirmation              M                      0.0                0.0   \n9   Confirmation              M                      0.0                0.0   \n\n   Manager_Business  Manager_Num_Products  Manager_Business2  \\\n0          335249.0                  28.0           335249.0   \n1          335249.0                  28.0           335249.0   \n2          357184.0                  24.0           357184.0   \n3          318356.0                  22.0           318356.0   \n4          230402.0                  17.0           230402.0   \n5          247118.0                  24.0           247118.0   \n6          315119.0                  27.0           315119.0   \n7          117358.0                   9.0           117358.0   \n8          244028.0                  17.0           244028.0   \n9          851557.0                  39.0           851557.0   \n\n   Manager_Num_Products2  Business_Sourced  \n0                   28.0                 0  \n1                   28.0                 1  \n2                   24.0                 0  \n3                   22.0                 0  \n4                   17.0                 0  \n5                   24.0                 1  \n6                   27.0                 1  \n7                    9.0                 0  \n8                   17.0                 1  \n9                   39.0                 1  ",
      "text/html": "<div>\n<style scoped>\n    .dataframe tbody tr th:only-of-type {\n        vertical-align: middle;\n    }\n\n    .dataframe tbody tr th {\n        vertical-align: top;\n    }\n\n    .dataframe thead th {\n        text-align: right;\n    }\n</style>\n<table border=\"1\" class=\"dataframe\">\n  <thead>\n    <tr style=\"text-align: right;\">\n      <th></th>\n      <th>ID</th>\n      <th>Office_PIN</th>\n      <th>Applicant_City_PIN</th>\n      <th>Applicant_Gender</th>\n      <th>Applicant_Marital_Status</th>\n      <th>Applicant_Occupation</th>\n      <th>Applicant_Qualification</th>\n      <th>Manager_Joining_Designation</th>\n      <th>Manager_Current_Designation</th>\n      <th>Manager_Grade</th>\n      <th>Manager_Status</th>\n      <th>Manager_Gender</th>\n      <th>Manager_Num_Application</th>\n      <th>Manager_Num_Coded</th>\n      <th>Manager_Business</th>\n      <th>Manager_Num_Products</th>\n      <th>Manager_Business2</th>\n      <th>Manager_Num_Products2</th>\n      <th>Business_Sourced</th>\n    </tr>\n  </thead>\n  <tbody>\n    <tr>\n      <th>0</th>\n      <td>FIN1000001</td>\n      <td>842001</td>\n      <td>844120</td>\n      <td>M</td>\n      <td>M</td>\n      <td>Others</td>\n      <td>Graduate</td>\n      <td>Level 1</td>\n      <td>Level 2</td>\n      <td>3.0</td>\n      <td>Confirmation</td>\n      <td>M</td>\n      <td>2.0</td>\n      <td>1.0</td>\n      <td>335249.0</td>\n      <td>28.0</td>\n      <td>335249.0</td>\n      <td>28.0</td>\n      <td>0</td>\n    </tr>\n    <tr>\n      <th>1</th>\n      <td>FIN1000002</td>\n      <td>842001</td>\n      <td>844111</td>\n      <td>M</td>\n      <td>S</td>\n      <td>Others</td>\n      <td>Class XII</td>\n      <td>Level 1</td>\n      <td>Level 2</td>\n      <td>3.0</td>\n      <td>Confirmation</td>\n      <td>M</td>\n      <td>2.0</td>\n      <td>1.0</td>\n      <td>335249.0</td>\n      <td>28.0</td>\n      <td>335249.0</td>\n      <td>28.0</td>\n      <td>1</td>\n    </tr>\n    <tr>\n      <th>2</th>\n      <td>FIN1000003</td>\n      <td>800001</td>\n      <td>844101</td>\n      <td>M</td>\n      <td>M</td>\n      <td>Business</td>\n      <td>Class XII</td>\n      <td>Level 1</td>\n      <td>Level 1</td>\n      <td>2.0</td>\n      <td>Confirmation</td>\n      <td>M</td>\n      <td>0.0</td>\n      <td>0.0</td>\n      <td>357184.0</td>\n      <td>24.0</td>\n      <td>357184.0</td>\n      <td>24.0</td>\n      <td>0</td>\n    </tr>\n    <tr>\n      <th>3</th>\n      <td>FIN1000004</td>\n      <td>814112</td>\n      <td>814112</td>\n      <td>M</td>\n      <td>S</td>\n      <td>Salaried</td>\n      <td>Class XII</td>\n      <td>Level 1</td>\n      <td>Level 3</td>\n      <td>4.0</td>\n      <td>Confirmation</td>\n      <td>F</td>\n      <td>0.0</td>\n      <td>0.0</td>\n      <td>318356.0</td>\n      <td>22.0</td>\n      <td>318356.0</td>\n      <td>22.0</td>\n      <td>0</td>\n    </tr>\n    <tr>\n      <th>4</th>\n      <td>FIN1000005</td>\n      <td>814112</td>\n      <td>815351</td>\n      <td>M</td>\n      <td>M</td>\n      <td>Others</td>\n      <td>Class XII</td>\n      <td>Level 1</td>\n      <td>Level 1</td>\n      <td>2.0</td>\n      <td>Confirmation</td>\n      <td>M</td>\n      <td>2.0</td>\n      <td>1.0</td>\n      <td>230402.0</td>\n      <td>17.0</td>\n      <td>230402.0</td>\n      <td>17.0</td>\n      <td>0</td>\n    </tr>\n    <tr>\n      <th>5</th>\n      <td>FIN1000006</td>\n      <td>814112</td>\n      <td>814114</td>\n      <td>M</td>\n      <td>S</td>\n      <td>Others</td>\n      <td>Class XII</td>\n      <td>Level 1</td>\n      <td>Level 1</td>\n      <td>2.0</td>\n      <td>Confirmation</td>\n      <td>M</td>\n      <td>0.0</td>\n      <td>0.0</td>\n      <td>247118.0</td>\n      <td>24.0</td>\n      <td>247118.0</td>\n      <td>24.0</td>\n      <td>1</td>\n    </tr>\n    <tr>\n      <th>6</th>\n      <td>FIN1000007</td>\n      <td>842001</td>\n      <td>844118</td>\n      <td>M</td>\n      <td>M</td>\n      <td>Business</td>\n      <td>Class XII</td>\n      <td>Level 1</td>\n      <td>Level 1</td>\n      <td>2.0</td>\n      <td>Confirmation</td>\n      <td>M</td>\n      <td>0.0</td>\n      <td>0.0</td>\n      <td>315119.0</td>\n      <td>27.0</td>\n      <td>315119.0</td>\n      <td>27.0</td>\n      <td>1</td>\n    </tr>\n    <tr>\n      <th>7</th>\n      <td>FIN1000008</td>\n      <td>800001</td>\n      <td>844103</td>\n      <td>M</td>\n      <td>M</td>\n      <td>Salaried</td>\n      <td>Class XII</td>\n      <td>Level 1</td>\n      <td>Level 1</td>\n      <td>2.0</td>\n      <td>Confirmation</td>\n      <td>M</td>\n      <td>5.0</td>\n      <td>4.0</td>\n      <td>117358.0</td>\n      <td>9.0</td>\n      <td>117358.0</td>\n      <td>9.0</td>\n      <td>0</td>\n    </tr>\n    <tr>\n      <th>8</th>\n      <td>FIN1000009</td>\n      <td>209625</td>\n      <td>206451</td>\n      <td>M</td>\n      <td>M</td>\n      <td>Business</td>\n      <td>Graduate</td>\n      <td>Level 1</td>\n      <td>Level 2</td>\n      <td>3.0</td>\n      <td>Confirmation</td>\n      <td>M</td>\n      <td>0.0</td>\n      <td>0.0</td>\n      <td>244028.0</td>\n      <td>17.0</td>\n      <td>244028.0</td>\n      <td>17.0</td>\n      <td>1</td>\n    </tr>\n    <tr>\n      <th>9</th>\n      <td>FIN1000010</td>\n      <td>211001</td>\n      <td>212218</td>\n      <td>M</td>\n      <td>M</td>\n      <td>Others</td>\n      <td>Class XII</td>\n      <td>Level 1</td>\n      <td>Level 3</td>\n      <td>4.0</td>\n      <td>Confirmation</td>\n      <td>M</td>\n      <td>0.0</td>\n      <td>0.0</td>\n      <td>851557.0</td>\n      <td>39.0</td>\n      <td>851557.0</td>\n      <td>39.0</td>\n      <td>1</td>\n    </tr>\n  </tbody>\n</table>\n</div>"
     },
     "metadata": {},
     "execution_count": 2
    }
   ],
   "source": [
    "# Reading Dataset\n",
    "df= pd.read_csv(\"Train_pjb2QcD.csv\")\n",
    "df.head(10)"
   ]
  },
  {
   "cell_type": "code",
   "execution_count": 3,
   "metadata": {},
   "outputs": [
    {
     "output_type": "execute_result",
     "data": {
      "text/plain": "Index(['ID', 'Office_PIN', 'Applicant_City_PIN', 'Applicant_Gender',\n       'Applicant_Marital_Status', 'Applicant_Occupation',\n       'Applicant_Qualification', 'Manager_Joining_Designation',\n       'Manager_Current_Designation', 'Manager_Grade', 'Manager_Status',\n       'Manager_Gender', 'Manager_Num_Application', 'Manager_Num_Coded',\n       'Manager_Business', 'Manager_Num_Products', 'Manager_Business2',\n       'Manager_Num_Products2', 'Business_Sourced'],\n      dtype='object')"
     },
     "metadata": {},
     "execution_count": 3
    }
   ],
   "source": [
    "df.columns"
   ]
  },
  {
   "cell_type": "code",
   "execution_count": 4,
   "metadata": {},
   "outputs": [
    {
     "output_type": "execute_result",
     "data": {
      "text/plain": "ID                              object\nOffice_PIN                       int64\nApplicant_City_PIN               int64\nApplicant_Gender                object\nApplicant_Marital_Status        object\nApplicant_Occupation            object\nApplicant_Qualification         object\nManager_Joining_Designation     object\nManager_Current_Designation     object\nManager_Grade                  float64\nManager_Status                  object\nManager_Gender                  object\nManager_Num_Application        float64\nManager_Num_Coded              float64\nManager_Business               float64\nManager_Num_Products           float64\nManager_Business2              float64\nManager_Num_Products2          float64\nBusiness_Sourced                 int64\ndtype: object"
     },
     "metadata": {},
     "execution_count": 4
    }
   ],
   "source": [
    "df.dtypes"
   ]
  },
  {
   "cell_type": "code",
   "execution_count": 5,
   "metadata": {},
   "outputs": [
    {
     "output_type": "execute_result",
     "data": {
      "text/plain": "          Office_PIN  Applicant_City_PIN  Manager_Grade  \\\ncount    8844.000000         8844.000000    8844.000000   \nmean   450714.378562       452638.591022       3.264134   \nstd    234079.460837       238045.727919       1.137449   \nmin    110005.000000       110001.000000       1.000000   \n25%    226001.000000       226002.000000       2.000000   \n50%    416001.000000       422001.000000       3.000000   \n75%    695014.000000       695009.000000       4.000000   \nmax    851101.000000       995657.000000      10.000000   \n\n       Manager_Num_Application  Manager_Num_Coded  Manager_Business  \\\ncount              8844.000000        8844.000000      8.844000e+03   \nmean                  1.939733           0.758933      1.843710e+05   \nstd                   2.150529           1.188644      2.747163e+05   \nmin                   0.000000           0.000000     -2.652890e+05   \n25%                   0.000000           0.000000      0.000000e+00   \n50%                   1.000000           0.000000      1.021780e+05   \n75%                   3.000000           1.000000      2.471165e+05   \nmax                  22.000000           9.000000      3.578265e+06   \n\n       Manager_Num_Products  Manager_Business2  Manager_Num_Products2  \\\ncount           8844.000000       8.844000e+03            8844.000000   \nmean               7.152307       1.829263e+05               7.131275   \nstd                8.439351       2.718021e+05               8.423597   \nmin                0.000000      -2.652890e+05               0.000000   \n25%                0.000000       0.000000e+00               0.000000   \n50%                5.000000       1.017140e+05               5.000000   \n75%               11.000000       2.464612e+05              11.000000   \nmax              101.000000       3.578265e+06             101.000000   \n\n       Business_Sourced  \ncount       8844.000000  \nmean           0.342718  \nstd            0.474645  \nmin            0.000000  \n25%            0.000000  \n50%            0.000000  \n75%            1.000000  \nmax            1.000000  ",
      "text/html": "<div>\n<style scoped>\n    .dataframe tbody tr th:only-of-type {\n        vertical-align: middle;\n    }\n\n    .dataframe tbody tr th {\n        vertical-align: top;\n    }\n\n    .dataframe thead th {\n        text-align: right;\n    }\n</style>\n<table border=\"1\" class=\"dataframe\">\n  <thead>\n    <tr style=\"text-align: right;\">\n      <th></th>\n      <th>Office_PIN</th>\n      <th>Applicant_City_PIN</th>\n      <th>Manager_Grade</th>\n      <th>Manager_Num_Application</th>\n      <th>Manager_Num_Coded</th>\n      <th>Manager_Business</th>\n      <th>Manager_Num_Products</th>\n      <th>Manager_Business2</th>\n      <th>Manager_Num_Products2</th>\n      <th>Business_Sourced</th>\n    </tr>\n  </thead>\n  <tbody>\n    <tr>\n      <th>count</th>\n      <td>8844.000000</td>\n      <td>8844.000000</td>\n      <td>8844.000000</td>\n      <td>8844.000000</td>\n      <td>8844.000000</td>\n      <td>8.844000e+03</td>\n      <td>8844.000000</td>\n      <td>8.844000e+03</td>\n      <td>8844.000000</td>\n      <td>8844.000000</td>\n    </tr>\n    <tr>\n      <th>mean</th>\n      <td>450714.378562</td>\n      <td>452638.591022</td>\n      <td>3.264134</td>\n      <td>1.939733</td>\n      <td>0.758933</td>\n      <td>1.843710e+05</td>\n      <td>7.152307</td>\n      <td>1.829263e+05</td>\n      <td>7.131275</td>\n      <td>0.342718</td>\n    </tr>\n    <tr>\n      <th>std</th>\n      <td>234079.460837</td>\n      <td>238045.727919</td>\n      <td>1.137449</td>\n      <td>2.150529</td>\n      <td>1.188644</td>\n      <td>2.747163e+05</td>\n      <td>8.439351</td>\n      <td>2.718021e+05</td>\n      <td>8.423597</td>\n      <td>0.474645</td>\n    </tr>\n    <tr>\n      <th>min</th>\n      <td>110005.000000</td>\n      <td>110001.000000</td>\n      <td>1.000000</td>\n      <td>0.000000</td>\n      <td>0.000000</td>\n      <td>-2.652890e+05</td>\n      <td>0.000000</td>\n      <td>-2.652890e+05</td>\n      <td>0.000000</td>\n      <td>0.000000</td>\n    </tr>\n    <tr>\n      <th>25%</th>\n      <td>226001.000000</td>\n      <td>226002.000000</td>\n      <td>2.000000</td>\n      <td>0.000000</td>\n      <td>0.000000</td>\n      <td>0.000000e+00</td>\n      <td>0.000000</td>\n      <td>0.000000e+00</td>\n      <td>0.000000</td>\n      <td>0.000000</td>\n    </tr>\n    <tr>\n      <th>50%</th>\n      <td>416001.000000</td>\n      <td>422001.000000</td>\n      <td>3.000000</td>\n      <td>1.000000</td>\n      <td>0.000000</td>\n      <td>1.021780e+05</td>\n      <td>5.000000</td>\n      <td>1.017140e+05</td>\n      <td>5.000000</td>\n      <td>0.000000</td>\n    </tr>\n    <tr>\n      <th>75%</th>\n      <td>695014.000000</td>\n      <td>695009.000000</td>\n      <td>4.000000</td>\n      <td>3.000000</td>\n      <td>1.000000</td>\n      <td>2.471165e+05</td>\n      <td>11.000000</td>\n      <td>2.464612e+05</td>\n      <td>11.000000</td>\n      <td>1.000000</td>\n    </tr>\n    <tr>\n      <th>max</th>\n      <td>851101.000000</td>\n      <td>995657.000000</td>\n      <td>10.000000</td>\n      <td>22.000000</td>\n      <td>9.000000</td>\n      <td>3.578265e+06</td>\n      <td>101.000000</td>\n      <td>3.578265e+06</td>\n      <td>101.000000</td>\n      <td>1.000000</td>\n    </tr>\n  </tbody>\n</table>\n</div>"
     },
     "metadata": {},
     "execution_count": 5
    }
   ],
   "source": [
    "df.describe()"
   ]
  },
  {
   "cell_type": "code",
   "execution_count": 6,
   "metadata": {},
   "outputs": [
    {
     "output_type": "execute_result",
     "data": {
      "text/plain": "                         Office_PIN  Applicant_City_PIN  Manager_Grade  \\\nOffice_PIN                 1.000000            0.967030      -0.077063   \nApplicant_City_PIN         0.967030            1.000000      -0.092160   \nManager_Grade             -0.077063           -0.092160       1.000000   \nManager_Num_Application    0.061672            0.051295      -0.022524   \nManager_Num_Coded          0.066030            0.057324      -0.002833   \nManager_Business           0.093603            0.087860       0.322211   \nManager_Num_Products       0.132186            0.130968       0.210353   \nManager_Business2          0.093386            0.087718       0.320644   \nManager_Num_Products2      0.131747            0.130548       0.209886   \nBusiness_Sourced           0.037536            0.039544       0.059363   \n\n                         Manager_Num_Application  Manager_Num_Coded  \\\nOffice_PIN                              0.061672           0.066030   \nApplicant_City_PIN                      0.051295           0.057324   \nManager_Grade                          -0.022524          -0.002833   \nManager_Num_Application                 1.000000           0.514299   \nManager_Num_Coded                       0.514299           1.000000   \nManager_Business                        0.014605           0.152858   \nManager_Num_Products                   -0.030293           0.129490   \nManager_Business2                       0.015871           0.155289   \nManager_Num_Products2                  -0.029977           0.130039   \nBusiness_Sourced                       -0.037593           0.013565   \n\n                         Manager_Business  Manager_Num_Products  \\\nOffice_PIN                       0.093603              0.132186   \nApplicant_City_PIN               0.087860              0.130968   \nManager_Grade                    0.322211              0.210353   \nManager_Num_Application          0.014605             -0.030293   \nManager_Num_Coded                0.152858              0.129490   \nManager_Business                 1.000000              0.733880   \nManager_Num_Products             0.733880              1.000000   \nManager_Business2                0.994422              0.736272   \nManager_Num_Products2            0.729147              0.998893   \nBusiness_Sourced                 0.031578             -0.011000   \n\n                         Manager_Business2  Manager_Num_Products2  \\\nOffice_PIN                        0.093386               0.131747   \nApplicant_City_PIN                0.087718               0.130548   \nManager_Grade                     0.320644               0.209886   \nManager_Num_Application           0.015871              -0.029977   \nManager_Num_Coded                 0.155289               0.130039   \nManager_Business                  0.994422               0.729147   \nManager_Num_Products              0.736272               0.998893   \nManager_Business2                 1.000000               0.735594   \nManager_Num_Products2             0.735594               1.000000   \nBusiness_Sourced                  0.031093              -0.011706   \n\n                         Business_Sourced  \nOffice_PIN                       0.037536  \nApplicant_City_PIN               0.039544  \nManager_Grade                    0.059363  \nManager_Num_Application         -0.037593  \nManager_Num_Coded                0.013565  \nManager_Business                 0.031578  \nManager_Num_Products            -0.011000  \nManager_Business2                0.031093  \nManager_Num_Products2           -0.011706  \nBusiness_Sourced                 1.000000  ",
      "text/html": "<div>\n<style scoped>\n    .dataframe tbody tr th:only-of-type {\n        vertical-align: middle;\n    }\n\n    .dataframe tbody tr th {\n        vertical-align: top;\n    }\n\n    .dataframe thead th {\n        text-align: right;\n    }\n</style>\n<table border=\"1\" class=\"dataframe\">\n  <thead>\n    <tr style=\"text-align: right;\">\n      <th></th>\n      <th>Office_PIN</th>\n      <th>Applicant_City_PIN</th>\n      <th>Manager_Grade</th>\n      <th>Manager_Num_Application</th>\n      <th>Manager_Num_Coded</th>\n      <th>Manager_Business</th>\n      <th>Manager_Num_Products</th>\n      <th>Manager_Business2</th>\n      <th>Manager_Num_Products2</th>\n      <th>Business_Sourced</th>\n    </tr>\n  </thead>\n  <tbody>\n    <tr>\n      <th>Office_PIN</th>\n      <td>1.000000</td>\n      <td>0.967030</td>\n      <td>-0.077063</td>\n      <td>0.061672</td>\n      <td>0.066030</td>\n      <td>0.093603</td>\n      <td>0.132186</td>\n      <td>0.093386</td>\n      <td>0.131747</td>\n      <td>0.037536</td>\n    </tr>\n    <tr>\n      <th>Applicant_City_PIN</th>\n      <td>0.967030</td>\n      <td>1.000000</td>\n      <td>-0.092160</td>\n      <td>0.051295</td>\n      <td>0.057324</td>\n      <td>0.087860</td>\n      <td>0.130968</td>\n      <td>0.087718</td>\n      <td>0.130548</td>\n      <td>0.039544</td>\n    </tr>\n    <tr>\n      <th>Manager_Grade</th>\n      <td>-0.077063</td>\n      <td>-0.092160</td>\n      <td>1.000000</td>\n      <td>-0.022524</td>\n      <td>-0.002833</td>\n      <td>0.322211</td>\n      <td>0.210353</td>\n      <td>0.320644</td>\n      <td>0.209886</td>\n      <td>0.059363</td>\n    </tr>\n    <tr>\n      <th>Manager_Num_Application</th>\n      <td>0.061672</td>\n      <td>0.051295</td>\n      <td>-0.022524</td>\n      <td>1.000000</td>\n      <td>0.514299</td>\n      <td>0.014605</td>\n      <td>-0.030293</td>\n      <td>0.015871</td>\n      <td>-0.029977</td>\n      <td>-0.037593</td>\n    </tr>\n    <tr>\n      <th>Manager_Num_Coded</th>\n      <td>0.066030</td>\n      <td>0.057324</td>\n      <td>-0.002833</td>\n      <td>0.514299</td>\n      <td>1.000000</td>\n      <td>0.152858</td>\n      <td>0.129490</td>\n      <td>0.155289</td>\n      <td>0.130039</td>\n      <td>0.013565</td>\n    </tr>\n    <tr>\n      <th>Manager_Business</th>\n      <td>0.093603</td>\n      <td>0.087860</td>\n      <td>0.322211</td>\n      <td>0.014605</td>\n      <td>0.152858</td>\n      <td>1.000000</td>\n      <td>0.733880</td>\n      <td>0.994422</td>\n      <td>0.729147</td>\n      <td>0.031578</td>\n    </tr>\n    <tr>\n      <th>Manager_Num_Products</th>\n      <td>0.132186</td>\n      <td>0.130968</td>\n      <td>0.210353</td>\n      <td>-0.030293</td>\n      <td>0.129490</td>\n      <td>0.733880</td>\n      <td>1.000000</td>\n      <td>0.736272</td>\n      <td>0.998893</td>\n      <td>-0.011000</td>\n    </tr>\n    <tr>\n      <th>Manager_Business2</th>\n      <td>0.093386</td>\n      <td>0.087718</td>\n      <td>0.320644</td>\n      <td>0.015871</td>\n      <td>0.155289</td>\n      <td>0.994422</td>\n      <td>0.736272</td>\n      <td>1.000000</td>\n      <td>0.735594</td>\n      <td>0.031093</td>\n    </tr>\n    <tr>\n      <th>Manager_Num_Products2</th>\n      <td>0.131747</td>\n      <td>0.130548</td>\n      <td>0.209886</td>\n      <td>-0.029977</td>\n      <td>0.130039</td>\n      <td>0.729147</td>\n      <td>0.998893</td>\n      <td>0.735594</td>\n      <td>1.000000</td>\n      <td>-0.011706</td>\n    </tr>\n    <tr>\n      <th>Business_Sourced</th>\n      <td>0.037536</td>\n      <td>0.039544</td>\n      <td>0.059363</td>\n      <td>-0.037593</td>\n      <td>0.013565</td>\n      <td>0.031578</td>\n      <td>-0.011000</td>\n      <td>0.031093</td>\n      <td>-0.011706</td>\n      <td>1.000000</td>\n    </tr>\n  </tbody>\n</table>\n</div>"
     },
     "metadata": {},
     "execution_count": 6
    }
   ],
   "source": [
    "df.corr()"
   ]
  },
  {
   "cell_type": "markdown",
   "metadata": {},
   "source": [
    "## Imputing Missing values"
   ]
  },
  {
   "cell_type": "code",
   "execution_count": 7,
   "metadata": {},
   "outputs": [
    {
     "output_type": "execute_result",
     "data": {
      "text/plain": "ID                                0\nOffice_PIN                        0\nApplicant_City_PIN                0\nApplicant_Gender                 53\nApplicant_Marital_Status         59\nApplicant_Occupation           1090\nApplicant_Qualification          71\nManager_Joining_Designation       0\nManager_Current_Designation       0\nManager_Grade                     0\nManager_Status                    0\nManager_Gender                    0\nManager_Num_Application           0\nManager_Num_Coded                 0\nManager_Business                  0\nManager_Num_Products              0\nManager_Business2                 0\nManager_Num_Products2             0\nBusiness_Sourced                  0\ndtype: int64"
     },
     "metadata": {},
     "execution_count": 7
    }
   ],
   "source": [
    "df.isnull().sum()"
   ]
  },
  {
   "cell_type": "code",
   "execution_count": 8,
   "metadata": {},
   "outputs": [
    {
     "output_type": "execute_result",
     "data": {
      "text/plain": "M    6656\nF    2135\nName: Applicant_Gender, dtype: int64"
     },
     "metadata": {},
     "execution_count": 8
    }
   ],
   "source": [
    "df['Applicant_Gender'].value_counts()"
   ]
  },
  {
   "cell_type": "code",
   "execution_count": 9,
   "metadata": {},
   "outputs": [],
   "source": [
    "#Imputing  missing values with mode\n",
    "df['Applicant_Gender'].fillna('M', inplace=True)"
   ]
  },
  {
   "cell_type": "code",
   "execution_count": 10,
   "metadata": {},
   "outputs": [
    {
     "output_type": "execute_result",
     "data": {
      "text/plain": "M    5733\nS    3042\nW       6\nD       4\nName: Applicant_Marital_Status, dtype: int64"
     },
     "metadata": {},
     "execution_count": 10
    }
   ],
   "source": [
    "df['Applicant_Marital_Status'].value_counts()"
   ]
  },
  {
   "cell_type": "code",
   "execution_count": 11,
   "metadata": {},
   "outputs": [],
   "source": [
    "#Imputing  missing values with mode\n",
    "df['Applicant_Marital_Status'].fillna('M', inplace=True)"
   ]
  },
  {
   "cell_type": "code",
   "execution_count": 12,
   "metadata": {},
   "outputs": [
    {
     "output_type": "execute_result",
     "data": {
      "text/plain": "Salaried         3546\nBusiness         2157\nOthers           1809\nSelf Employed     146\nStudent            96\nName: Applicant_Occupation, dtype: int64"
     },
     "metadata": {},
     "execution_count": 12
    }
   ],
   "source": [
    "df['Applicant_Occupation'].value_counts()"
   ]
  },
  {
   "cell_type": "code",
   "execution_count": 13,
   "metadata": {},
   "outputs": [],
   "source": [
    "#Imputing  missing values with mode\n",
    "df['Applicant_Occupation'].fillna('Salaried', inplace=True)"
   ]
  },
  {
   "cell_type": "code",
   "execution_count": 14,
   "metadata": {},
   "outputs": [
    {
     "output_type": "execute_result",
     "data": {
      "text/plain": "Class XII                                                           5426\nGraduate                                                            2958\nClass X                                                              195\nOthers                                                               116\nMasters of Business Administration                                    71\nAssociate / Fellow of Institute of Chartered Accountans of India       3\nAssociate/Fellow of Acturial Society of India                          1\nProfessional Qualification in Marketing                                1\nAssociate/Fellow of Insurance Institute of India                       1\nAssociate/Fellow of Institute of Company Secretories of India          1\nName: Applicant_Qualification, dtype: int64"
     },
     "metadata": {},
     "execution_count": 14
    }
   ],
   "source": [
    "df['Applicant_Qualification'].value_counts()"
   ]
  },
  {
   "cell_type": "code",
   "execution_count": 15,
   "metadata": {},
   "outputs": [],
   "source": [
    "df['Applicant_Qualification'].fillna('Class XII', inplace=True)"
   ]
  },
  {
   "cell_type": "code",
   "execution_count": 16,
   "metadata": {},
   "outputs": [
    {
     "output_type": "execute_result",
     "data": {
      "text/plain": "ID                             0\nOffice_PIN                     0\nApplicant_City_PIN             0\nApplicant_Gender               0\nApplicant_Marital_Status       0\nApplicant_Occupation           0\nApplicant_Qualification        0\nManager_Joining_Designation    0\nManager_Current_Designation    0\nManager_Grade                  0\nManager_Status                 0\nManager_Gender                 0\nManager_Num_Application        0\nManager_Num_Coded              0\nManager_Business               0\nManager_Num_Products           0\nManager_Business2              0\nManager_Num_Products2          0\nBusiness_Sourced               0\ndtype: int64"
     },
     "metadata": {},
     "execution_count": 16
    }
   ],
   "source": [
    "df.isnull().sum()"
   ]
  },
  {
   "cell_type": "markdown",
   "metadata": {},
   "source": [
    "### All missing values imputed with their mode."
   ]
  },
  {
   "cell_type": "markdown",
   "metadata": {},
   "source": [
    "## Dealing with categorical variables"
   ]
  },
  {
   "cell_type": "code",
   "execution_count": 17,
   "metadata": {},
   "outputs": [
    {
     "output_type": "execute_result",
     "data": {
      "text/plain": "Index(['ID', 'Office_PIN', 'Applicant_City_PIN', 'Applicant_Gender',\n       'Applicant_Marital_Status', 'Applicant_Occupation',\n       'Applicant_Qualification', 'Manager_Joining_Designation',\n       'Manager_Current_Designation', 'Manager_Grade', 'Manager_Status',\n       'Manager_Gender', 'Manager_Num_Application', 'Manager_Num_Coded',\n       'Manager_Business', 'Manager_Num_Products', 'Manager_Business2',\n       'Manager_Num_Products2', 'Business_Sourced'],\n      dtype='object')"
     },
     "metadata": {},
     "execution_count": 17
    }
   ],
   "source": [
    "df.columns"
   ]
  },
  {
   "cell_type": "code",
   "execution_count": 18,
   "metadata": {},
   "outputs": [],
   "source": [
    "cat_cols=['Applicant_Gender','Applicant_Marital_Status','Applicant_Occupation','Applicant_Qualification','Manager_Joining_Designation', 'Manager_Current_Designation', 'Manager_Status', 'Manager_Gender']"
   ]
  },
  {
   "cell_type": "code",
   "execution_count": 19,
   "metadata": {
    "tags": []
   },
   "outputs": [
    {
     "output_type": "stream",
     "name": "stdout",
     "text": "-----   Applicant_Gender   -----\nM    6709\nF    2135\nName: Applicant_Gender, dtype: int64\n\n-----   Applicant_Marital_Status   -----\nM    5792\nS    3042\nW       6\nD       4\nName: Applicant_Marital_Status, dtype: int64\n\n-----   Applicant_Occupation   -----\nSalaried         4636\nBusiness         2157\nOthers           1809\nSelf Employed     146\nStudent            96\nName: Applicant_Occupation, dtype: int64\n\n-----   Applicant_Qualification   -----\nClass XII                                                           5497\nGraduate                                                            2958\nClass X                                                              195\nOthers                                                               116\nMasters of Business Administration                                    71\nAssociate / Fellow of Institute of Chartered Accountans of India       3\nAssociate/Fellow of Acturial Society of India                          1\nProfessional Qualification in Marketing                                1\nAssociate/Fellow of Insurance Institute of India                       1\nAssociate/Fellow of Institute of Company Secretories of India          1\nName: Applicant_Qualification, dtype: int64\n\n-----   Manager_Joining_Designation   -----\nLevel 1    4632\nLevel 2    2787\nLevel 3    1146\nLevel 4     200\nOther        58\nLevel 6      18\nLevel 7       2\nLevel 5       1\nName: Manager_Joining_Designation, dtype: int64\n\n-----   Manager_Current_Designation   -----\nLevel 2    3208\nLevel 1    2479\nLevel 3    2033\nLevel 4    1031\nLevel 5      93\nName: Manager_Current_Designation, dtype: int64\n\n-----   Manager_Status   -----\nConfirmation    5277\nProbation       3567\nName: Manager_Status, dtype: int64\n\n-----   Manager_Gender   -----\nM    7627\nF    1217\nName: Manager_Gender, dtype: int64\n\n"
    }
   ],
   "source": [
    "for col in cat_cols:\n",
    "    print(f\"-----   {col}   -----\")\n",
    "    print(df[col].value_counts())\n",
    "    print(\"\")"
   ]
  },
  {
   "cell_type": "markdown",
   "metadata": {},
   "source": [
    "#### No inacurate data found."
   ]
  },
  {
   "cell_type": "code",
   "execution_count": 20,
   "metadata": {},
   "outputs": [
    {
     "output_type": "execute_result",
     "data": {
      "text/plain": "           ID  Office_PIN  Applicant_City_PIN Applicant_Gender  \\\n0  FIN1000001      842001              844120                M   \n1  FIN1000002      842001              844111                M   \n2  FIN1000003      800001              844101                M   \n3  FIN1000004      814112              814112                M   \n4  FIN1000005      814112              815351                M   \n\n  Applicant_Marital_Status Applicant_Occupation Applicant_Qualification  \\\n0                        M               Others                Graduate   \n1                        S               Others               Class XII   \n2                        M             Business               Class XII   \n3                        S             Salaried               Class XII   \n4                        M               Others               Class XII   \n\n  Manager_Joining_Designation Manager_Current_Designation  Manager_Grade  \\\n0                     Level 1                     Level 2            3.0   \n1                     Level 1                     Level 2            3.0   \n2                     Level 1                     Level 1            2.0   \n3                     Level 1                     Level 3            4.0   \n4                     Level 1                     Level 1            2.0   \n\n  Manager_Status Manager_Gender  Manager_Num_Application  Manager_Num_Coded  \\\n0   Confirmation              M                      2.0                1.0   \n1   Confirmation              M                      2.0                1.0   \n2   Confirmation              M                      0.0                0.0   \n3   Confirmation              F                      0.0                0.0   \n4   Confirmation              M                      2.0                1.0   \n\n   Manager_Business  Manager_Num_Products  Manager_Business2  \\\n0          335249.0                  28.0           335249.0   \n1          335249.0                  28.0           335249.0   \n2          357184.0                  24.0           357184.0   \n3          318356.0                  22.0           318356.0   \n4          230402.0                  17.0           230402.0   \n\n   Manager_Num_Products2  Business_Sourced  \n0                   28.0                 0  \n1                   28.0                 1  \n2                   24.0                 0  \n3                   22.0                 0  \n4                   17.0                 0  ",
      "text/html": "<div>\n<style scoped>\n    .dataframe tbody tr th:only-of-type {\n        vertical-align: middle;\n    }\n\n    .dataframe tbody tr th {\n        vertical-align: top;\n    }\n\n    .dataframe thead th {\n        text-align: right;\n    }\n</style>\n<table border=\"1\" class=\"dataframe\">\n  <thead>\n    <tr style=\"text-align: right;\">\n      <th></th>\n      <th>ID</th>\n      <th>Office_PIN</th>\n      <th>Applicant_City_PIN</th>\n      <th>Applicant_Gender</th>\n      <th>Applicant_Marital_Status</th>\n      <th>Applicant_Occupation</th>\n      <th>Applicant_Qualification</th>\n      <th>Manager_Joining_Designation</th>\n      <th>Manager_Current_Designation</th>\n      <th>Manager_Grade</th>\n      <th>Manager_Status</th>\n      <th>Manager_Gender</th>\n      <th>Manager_Num_Application</th>\n      <th>Manager_Num_Coded</th>\n      <th>Manager_Business</th>\n      <th>Manager_Num_Products</th>\n      <th>Manager_Business2</th>\n      <th>Manager_Num_Products2</th>\n      <th>Business_Sourced</th>\n    </tr>\n  </thead>\n  <tbody>\n    <tr>\n      <th>0</th>\n      <td>FIN1000001</td>\n      <td>842001</td>\n      <td>844120</td>\n      <td>M</td>\n      <td>M</td>\n      <td>Others</td>\n      <td>Graduate</td>\n      <td>Level 1</td>\n      <td>Level 2</td>\n      <td>3.0</td>\n      <td>Confirmation</td>\n      <td>M</td>\n      <td>2.0</td>\n      <td>1.0</td>\n      <td>335249.0</td>\n      <td>28.0</td>\n      <td>335249.0</td>\n      <td>28.0</td>\n      <td>0</td>\n    </tr>\n    <tr>\n      <th>1</th>\n      <td>FIN1000002</td>\n      <td>842001</td>\n      <td>844111</td>\n      <td>M</td>\n      <td>S</td>\n      <td>Others</td>\n      <td>Class XII</td>\n      <td>Level 1</td>\n      <td>Level 2</td>\n      <td>3.0</td>\n      <td>Confirmation</td>\n      <td>M</td>\n      <td>2.0</td>\n      <td>1.0</td>\n      <td>335249.0</td>\n      <td>28.0</td>\n      <td>335249.0</td>\n      <td>28.0</td>\n      <td>1</td>\n    </tr>\n    <tr>\n      <th>2</th>\n      <td>FIN1000003</td>\n      <td>800001</td>\n      <td>844101</td>\n      <td>M</td>\n      <td>M</td>\n      <td>Business</td>\n      <td>Class XII</td>\n      <td>Level 1</td>\n      <td>Level 1</td>\n      <td>2.0</td>\n      <td>Confirmation</td>\n      <td>M</td>\n      <td>0.0</td>\n      <td>0.0</td>\n      <td>357184.0</td>\n      <td>24.0</td>\n      <td>357184.0</td>\n      <td>24.0</td>\n      <td>0</td>\n    </tr>\n    <tr>\n      <th>3</th>\n      <td>FIN1000004</td>\n      <td>814112</td>\n      <td>814112</td>\n      <td>M</td>\n      <td>S</td>\n      <td>Salaried</td>\n      <td>Class XII</td>\n      <td>Level 1</td>\n      <td>Level 3</td>\n      <td>4.0</td>\n      <td>Confirmation</td>\n      <td>F</td>\n      <td>0.0</td>\n      <td>0.0</td>\n      <td>318356.0</td>\n      <td>22.0</td>\n      <td>318356.0</td>\n      <td>22.0</td>\n      <td>0</td>\n    </tr>\n    <tr>\n      <th>4</th>\n      <td>FIN1000005</td>\n      <td>814112</td>\n      <td>815351</td>\n      <td>M</td>\n      <td>M</td>\n      <td>Others</td>\n      <td>Class XII</td>\n      <td>Level 1</td>\n      <td>Level 1</td>\n      <td>2.0</td>\n      <td>Confirmation</td>\n      <td>M</td>\n      <td>2.0</td>\n      <td>1.0</td>\n      <td>230402.0</td>\n      <td>17.0</td>\n      <td>230402.0</td>\n      <td>17.0</td>\n      <td>0</td>\n    </tr>\n  </tbody>\n</table>\n</div>"
     },
     "metadata": {},
     "execution_count": 20
    }
   ],
   "source": [
    "df.head()"
   ]
  },
  {
   "cell_type": "code",
   "execution_count": 21,
   "metadata": {},
   "outputs": [
    {
     "output_type": "execute_result",
     "data": {
      "text/plain": "ID                              object\nOffice_PIN                       int64\nApplicant_City_PIN               int64\nApplicant_Gender                object\nApplicant_Marital_Status        object\nApplicant_Occupation            object\nApplicant_Qualification         object\nManager_Joining_Designation     object\nManager_Current_Designation     object\nManager_Grade                  float64\nManager_Status                  object\nManager_Gender                  object\nManager_Num_Application        float64\nManager_Num_Coded              float64\nManager_Business               float64\nManager_Num_Products           float64\nManager_Business2              float64\nManager_Num_Products2          float64\nBusiness_Sourced                 int64\ndtype: object"
     },
     "metadata": {},
     "execution_count": 21
    }
   ],
   "source": [
    "df.dtypes"
   ]
  },
  {
   "cell_type": "code",
   "execution_count": 22,
   "metadata": {},
   "outputs": [],
   "source": [
    "df= df.drop(['ID'], axis=1)"
   ]
  },
  {
   "cell_type": "code",
   "execution_count": 23,
   "metadata": {},
   "outputs": [],
   "source": [
    "df= pd.get_dummies(df)"
   ]
  },
  {
   "cell_type": "code",
   "execution_count": 24,
   "metadata": {},
   "outputs": [
    {
     "output_type": "execute_result",
     "data": {
      "text/plain": "   Office_PIN  Applicant_City_PIN  Manager_Grade  Manager_Num_Application  \\\n0      842001              844120            3.0                      2.0   \n1      842001              844111            3.0                      2.0   \n2      800001              844101            2.0                      0.0   \n3      814112              814112            4.0                      0.0   \n4      814112              815351            2.0                      2.0   \n\n   Manager_Num_Coded  Manager_Business  Manager_Num_Products  \\\n0                1.0          335249.0                  28.0   \n1                1.0          335249.0                  28.0   \n2                0.0          357184.0                  24.0   \n3                0.0          318356.0                  22.0   \n4                1.0          230402.0                  17.0   \n\n   Manager_Business2  Manager_Num_Products2  Business_Sourced  ...  \\\n0           335249.0                   28.0                 0  ...   \n1           335249.0                   28.0                 1  ...   \n2           357184.0                   24.0                 0  ...   \n3           318356.0                   22.0                 0  ...   \n4           230402.0                   17.0                 0  ...   \n\n   Manager_Joining_Designation_Other  Manager_Current_Designation_Level 1  \\\n0                                  0                                    0   \n1                                  0                                    0   \n2                                  0                                    1   \n3                                  0                                    0   \n4                                  0                                    1   \n\n   Manager_Current_Designation_Level 2  Manager_Current_Designation_Level 3  \\\n0                                    1                                    0   \n1                                    1                                    0   \n2                                    0                                    0   \n3                                    0                                    1   \n4                                    0                                    0   \n\n   Manager_Current_Designation_Level 4  Manager_Current_Designation_Level 5  \\\n0                                    0                                    0   \n1                                    0                                    0   \n2                                    0                                    0   \n3                                    0                                    0   \n4                                    0                                    0   \n\n   Manager_Status_Confirmation  Manager_Status_Probation  Manager_Gender_F  \\\n0                            1                         0                 0   \n1                            1                         0                 0   \n2                            1                         0                 0   \n3                            1                         0                 1   \n4                            1                         0                 0   \n\n   Manager_Gender_M  \n0                 1  \n1                 1  \n2                 1  \n3                 0  \n4                 1  \n\n[5 rows x 48 columns]",
      "text/html": "<div>\n<style scoped>\n    .dataframe tbody tr th:only-of-type {\n        vertical-align: middle;\n    }\n\n    .dataframe tbody tr th {\n        vertical-align: top;\n    }\n\n    .dataframe thead th {\n        text-align: right;\n    }\n</style>\n<table border=\"1\" class=\"dataframe\">\n  <thead>\n    <tr style=\"text-align: right;\">\n      <th></th>\n      <th>Office_PIN</th>\n      <th>Applicant_City_PIN</th>\n      <th>Manager_Grade</th>\n      <th>Manager_Num_Application</th>\n      <th>Manager_Num_Coded</th>\n      <th>Manager_Business</th>\n      <th>Manager_Num_Products</th>\n      <th>Manager_Business2</th>\n      <th>Manager_Num_Products2</th>\n      <th>Business_Sourced</th>\n      <th>...</th>\n      <th>Manager_Joining_Designation_Other</th>\n      <th>Manager_Current_Designation_Level 1</th>\n      <th>Manager_Current_Designation_Level 2</th>\n      <th>Manager_Current_Designation_Level 3</th>\n      <th>Manager_Current_Designation_Level 4</th>\n      <th>Manager_Current_Designation_Level 5</th>\n      <th>Manager_Status_Confirmation</th>\n      <th>Manager_Status_Probation</th>\n      <th>Manager_Gender_F</th>\n      <th>Manager_Gender_M</th>\n    </tr>\n  </thead>\n  <tbody>\n    <tr>\n      <th>0</th>\n      <td>842001</td>\n      <td>844120</td>\n      <td>3.0</td>\n      <td>2.0</td>\n      <td>1.0</td>\n      <td>335249.0</td>\n      <td>28.0</td>\n      <td>335249.0</td>\n      <td>28.0</td>\n      <td>0</td>\n      <td>...</td>\n      <td>0</td>\n      <td>0</td>\n      <td>1</td>\n      <td>0</td>\n      <td>0</td>\n      <td>0</td>\n      <td>1</td>\n      <td>0</td>\n      <td>0</td>\n      <td>1</td>\n    </tr>\n    <tr>\n      <th>1</th>\n      <td>842001</td>\n      <td>844111</td>\n      <td>3.0</td>\n      <td>2.0</td>\n      <td>1.0</td>\n      <td>335249.0</td>\n      <td>28.0</td>\n      <td>335249.0</td>\n      <td>28.0</td>\n      <td>1</td>\n      <td>...</td>\n      <td>0</td>\n      <td>0</td>\n      <td>1</td>\n      <td>0</td>\n      <td>0</td>\n      <td>0</td>\n      <td>1</td>\n      <td>0</td>\n      <td>0</td>\n      <td>1</td>\n    </tr>\n    <tr>\n      <th>2</th>\n      <td>800001</td>\n      <td>844101</td>\n      <td>2.0</td>\n      <td>0.0</td>\n      <td>0.0</td>\n      <td>357184.0</td>\n      <td>24.0</td>\n      <td>357184.0</td>\n      <td>24.0</td>\n      <td>0</td>\n      <td>...</td>\n      <td>0</td>\n      <td>1</td>\n      <td>0</td>\n      <td>0</td>\n      <td>0</td>\n      <td>0</td>\n      <td>1</td>\n      <td>0</td>\n      <td>0</td>\n      <td>1</td>\n    </tr>\n    <tr>\n      <th>3</th>\n      <td>814112</td>\n      <td>814112</td>\n      <td>4.0</td>\n      <td>0.0</td>\n      <td>0.0</td>\n      <td>318356.0</td>\n      <td>22.0</td>\n      <td>318356.0</td>\n      <td>22.0</td>\n      <td>0</td>\n      <td>...</td>\n      <td>0</td>\n      <td>0</td>\n      <td>0</td>\n      <td>1</td>\n      <td>0</td>\n      <td>0</td>\n      <td>1</td>\n      <td>0</td>\n      <td>1</td>\n      <td>0</td>\n    </tr>\n    <tr>\n      <th>4</th>\n      <td>814112</td>\n      <td>815351</td>\n      <td>2.0</td>\n      <td>2.0</td>\n      <td>1.0</td>\n      <td>230402.0</td>\n      <td>17.0</td>\n      <td>230402.0</td>\n      <td>17.0</td>\n      <td>0</td>\n      <td>...</td>\n      <td>0</td>\n      <td>1</td>\n      <td>0</td>\n      <td>0</td>\n      <td>0</td>\n      <td>0</td>\n      <td>1</td>\n      <td>0</td>\n      <td>0</td>\n      <td>1</td>\n    </tr>\n  </tbody>\n</table>\n<p>5 rows × 48 columns</p>\n</div>"
     },
     "metadata": {},
     "execution_count": 24
    }
   ],
   "source": [
    "df.head()"
   ]
  },
  {
   "cell_type": "markdown",
   "metadata": {},
   "source": [
    "## Logistic Regression"
   ]
  },
  {
   "cell_type": "markdown",
   "metadata": {},
   "source": [
    "# Segregating dependent and independent variables"
   ]
  },
  {
   "cell_type": "code",
   "execution_count": 25,
   "metadata": {},
   "outputs": [
    {
     "output_type": "execute_result",
     "data": {
      "text/plain": "((8844, 47), (8844,))"
     },
     "metadata": {},
     "execution_count": 25
    }
   ],
   "source": [
    "x = df.drop(['Business_Sourced'], axis=1)\n",
    "y = df['Business_Sourced']\n",
    "x.shape, y.shape"
   ]
  },
  {
   "cell_type": "code",
   "execution_count": 26,
   "metadata": {},
   "outputs": [
    {
     "output_type": "execute_result",
     "data": {
      "text/plain": "((6190, 47), (2654, 47))"
     },
     "metadata": {},
     "execution_count": 26
    }
   ],
   "source": [
    "from sklearn.model_selection import train_test_split\n",
    "trainx, testx, trainy, testy = train_test_split(x, y, test_size= 0.3, random_state= 42, stratify=y)\n",
    "trainx.shape, testx.shape"
   ]
  },
  {
   "cell_type": "code",
   "execution_count": 27,
   "metadata": {},
   "outputs": [],
   "source": [
    "# Importing essential Libraries\n",
    "from sklearn.linear_model import LogisticRegression\n",
    "from sklearn.metrics import f1_score, auc\n",
    "from sklearn.metrics import roc_auc_score"
   ]
  },
  {
   "cell_type": "code",
   "execution_count": 28,
   "metadata": {},
   "outputs": [
    {
     "output_type": "execute_result",
     "data": {
      "text/plain": "LogisticRegression(C=1.0, class_weight=None, dual=False, fit_intercept=True,\n                   intercept_scaling=1, l1_ratio=None, max_iter=100,\n                   multi_class='auto', n_jobs=None, penalty='l2',\n                   random_state=None, solver='lbfgs', tol=0.0001, verbose=0,\n                   warm_start=False)"
     },
     "metadata": {},
     "execution_count": 28
    }
   ],
   "source": [
    "# Training the model\n",
    "logreg = LogisticRegression()\n",
    "logreg.fit(trainx, trainy)"
   ]
  },
  {
   "cell_type": "code",
   "execution_count": 29,
   "metadata": {},
   "outputs": [],
   "source": [
    "pred_train= logreg.predict(trainx)\n",
    "pred_test= logreg.predict(testx)"
   ]
  },
  {
   "cell_type": "code",
   "execution_count": 30,
   "metadata": {
    "tags": []
   },
   "outputs": [
    {
     "output_type": "execute_result",
     "data": {
      "text/plain": "0.5001128575449266"
     },
     "metadata": {},
     "execution_count": 30
    }
   ],
   "source": [
    "# roc_auc_score on train set\n",
    "roc_auc_score(trainy, pred_train[:])"
   ]
  },
  {
   "cell_type": "code",
   "execution_count": 31,
   "metadata": {},
   "outputs": [
    {
     "output_type": "execute_result",
     "data": {
      "text/plain": "0.5"
     },
     "metadata": {},
     "execution_count": 31
    }
   ],
   "source": [
    "# roc_auc_score on test set\n",
    "roc_auc_score(testy, pred_test[:])"
   ]
  },
  {
   "cell_type": "markdown",
   "metadata": {},
   "source": [
    "AUC Score Pretty low for now    :("
   ]
  },
  {
   "cell_type": "markdown",
   "metadata": {},
   "source": [
    "## Implementing Random Forest"
   ]
  },
  {
   "cell_type": "code",
   "execution_count": 43,
   "metadata": {
    "tags": []
   },
   "outputs": [
    {
     "output_type": "stream",
     "name": "stdout",
     "text": "Score = 65.03\n"
    }
   ],
   "source": [
    "from sklearn.ensemble import RandomForestClassifier\n",
    "rfc = RandomForestClassifier()\n",
    "# Training Model\n",
    "rfc.fit(trainx, trainy) \n",
    "# Finding Score\n",
    "sc=rfc.score(testx, testy)\n",
    "# Printing score\n",
    "print(f'Score = {(score*100).round(2)}')"
   ]
  },
  {
   "cell_type": "markdown",
   "metadata": {},
   "source": [
    "### Significant increase in accuracy gained just by using Random Forest model in place of Logitic Regressor"
   ]
  },
  {
   "cell_type": "code",
   "execution_count": 58,
   "metadata": {},
   "outputs": [
    {
     "output_type": "execute_result",
     "data": {
      "text/plain": "[<matplotlib.lines.Line2D at 0x2d30f6e3188>]"
     },
     "metadata": {},
     "execution_count": 58
    },
    {
     "output_type": "display_data",
     "data": {
      "text/plain": "<Figure size 432x288 with 1 Axes>",
      "image/svg+xml": "<?xml version=\"1.0\" encoding=\"utf-8\" standalone=\"no\"?>\r\n<!DOCTYPE svg PUBLIC \"-//W3C//DTD SVG 1.1//EN\"\r\n  \"http://www.w3.org/Graphics/SVG/1.1/DTD/svg11.dtd\">\r\n<!-- Created with matplotlib (https://matplotlib.org/) -->\r\n<svg height=\"248.518125pt\" version=\"1.1\" viewBox=\"0 0 378.465625 248.518125\" width=\"378.465625pt\" xmlns=\"http://www.w3.org/2000/svg\" xmlns:xlink=\"http://www.w3.org/1999/xlink\">\r\n <defs>\r\n  <style type=\"text/css\">\r\n*{stroke-linecap:butt;stroke-linejoin:round;}\r\n  </style>\r\n </defs>\r\n <g id=\"figure_1\">\r\n  <g id=\"patch_1\">\r\n   <path d=\"M 0 248.518125 \r\nL 378.465625 248.518125 \r\nL 378.465625 0 \r\nL 0 0 \r\nz\r\n\"/>\r\n  </g>\r\n  <g id=\"axes_1\">\r\n   <g id=\"patch_2\">\r\n    <path d=\"M 36.465625 224.64 \r\nL 371.265625 224.64 \r\nL 371.265625 7.2 \r\nL 36.465625 7.2 \r\nz\r\n\"/>\r\n   </g>\r\n   <g id=\"matplotlib.axis_1\">\r\n    <g id=\"xtick_1\">\r\n     <g id=\"line2d_1\">\r\n      <defs>\r\n       <path d=\"M 0 0 \r\nL 0 3.5 \r\n\" id=\"m65910c5998\" style=\"stroke:#ffffff;stroke-width:0.8;\"/>\r\n      </defs>\r\n      <g>\r\n       <use style=\"fill:#ffffff;stroke:#ffffff;stroke-width:0.8;\" x=\"79.353228\" xlink:href=\"#m65910c5998\" y=\"224.64\"/>\r\n      </g>\r\n     </g>\r\n     <g id=\"text_1\">\r\n      <!-- 4 -->\r\n      <defs>\r\n       <path d=\"M 37.796875 64.3125 \r\nL 12.890625 25.390625 \r\nL 37.796875 25.390625 \r\nz\r\nM 35.203125 72.90625 \r\nL 47.609375 72.90625 \r\nL 47.609375 25.390625 \r\nL 58.015625 25.390625 \r\nL 58.015625 17.1875 \r\nL 47.609375 17.1875 \r\nL 47.609375 0 \r\nL 37.796875 0 \r\nL 37.796875 17.1875 \r\nL 4.890625 17.1875 \r\nL 4.890625 26.703125 \r\nz\r\n\" id=\"DejaVuSans-52\"/>\r\n      </defs>\r\n      <g style=\"fill:#ffffff;\" transform=\"translate(76.171978 239.238437)scale(0.1 -0.1)\">\r\n       <use xlink:href=\"#DejaVuSans-52\"/>\r\n      </g>\r\n     </g>\r\n    </g>\r\n    <g id=\"xtick_2\">\r\n     <g id=\"line2d_2\">\r\n      <g>\r\n       <use style=\"fill:#ffffff;stroke:#ffffff;stroke-width:0.8;\" x=\"134.692071\" xlink:href=\"#m65910c5998\" y=\"224.64\"/>\r\n      </g>\r\n     </g>\r\n     <g id=\"text_2\">\r\n      <!-- 6 -->\r\n      <defs>\r\n       <path d=\"M 33.015625 40.375 \r\nQ 26.375 40.375 22.484375 35.828125 \r\nQ 18.609375 31.296875 18.609375 23.390625 \r\nQ 18.609375 15.53125 22.484375 10.953125 \r\nQ 26.375 6.390625 33.015625 6.390625 \r\nQ 39.65625 6.390625 43.53125 10.953125 \r\nQ 47.40625 15.53125 47.40625 23.390625 \r\nQ 47.40625 31.296875 43.53125 35.828125 \r\nQ 39.65625 40.375 33.015625 40.375 \r\nz\r\nM 52.59375 71.296875 \r\nL 52.59375 62.3125 \r\nQ 48.875 64.0625 45.09375 64.984375 \r\nQ 41.3125 65.921875 37.59375 65.921875 \r\nQ 27.828125 65.921875 22.671875 59.328125 \r\nQ 17.53125 52.734375 16.796875 39.40625 \r\nQ 19.671875 43.65625 24.015625 45.921875 \r\nQ 28.375 48.1875 33.59375 48.1875 \r\nQ 44.578125 48.1875 50.953125 41.515625 \r\nQ 57.328125 34.859375 57.328125 23.390625 \r\nQ 57.328125 12.15625 50.6875 5.359375 \r\nQ 44.046875 -1.421875 33.015625 -1.421875 \r\nQ 20.359375 -1.421875 13.671875 8.265625 \r\nQ 6.984375 17.96875 6.984375 36.375 \r\nQ 6.984375 53.65625 15.1875 63.9375 \r\nQ 23.390625 74.21875 37.203125 74.21875 \r\nQ 40.921875 74.21875 44.703125 73.484375 \r\nQ 48.484375 72.75 52.59375 71.296875 \r\nz\r\n\" id=\"DejaVuSans-54\"/>\r\n      </defs>\r\n      <g style=\"fill:#ffffff;\" transform=\"translate(131.510821 239.238437)scale(0.1 -0.1)\">\r\n       <use xlink:href=\"#DejaVuSans-54\"/>\r\n      </g>\r\n     </g>\r\n    </g>\r\n    <g id=\"xtick_3\">\r\n     <g id=\"line2d_3\">\r\n      <g>\r\n       <use style=\"fill:#ffffff;stroke:#ffffff;stroke-width:0.8;\" x=\"190.030914\" xlink:href=\"#m65910c5998\" y=\"224.64\"/>\r\n      </g>\r\n     </g>\r\n     <g id=\"text_3\">\r\n      <!-- 8 -->\r\n      <defs>\r\n       <path d=\"M 31.78125 34.625 \r\nQ 24.75 34.625 20.71875 30.859375 \r\nQ 16.703125 27.09375 16.703125 20.515625 \r\nQ 16.703125 13.921875 20.71875 10.15625 \r\nQ 24.75 6.390625 31.78125 6.390625 \r\nQ 38.8125 6.390625 42.859375 10.171875 \r\nQ 46.921875 13.96875 46.921875 20.515625 \r\nQ 46.921875 27.09375 42.890625 30.859375 \r\nQ 38.875 34.625 31.78125 34.625 \r\nz\r\nM 21.921875 38.8125 \r\nQ 15.578125 40.375 12.03125 44.71875 \r\nQ 8.5 49.078125 8.5 55.328125 \r\nQ 8.5 64.0625 14.71875 69.140625 \r\nQ 20.953125 74.21875 31.78125 74.21875 \r\nQ 42.671875 74.21875 48.875 69.140625 \r\nQ 55.078125 64.0625 55.078125 55.328125 \r\nQ 55.078125 49.078125 51.53125 44.71875 \r\nQ 48 40.375 41.703125 38.8125 \r\nQ 48.828125 37.15625 52.796875 32.3125 \r\nQ 56.78125 27.484375 56.78125 20.515625 \r\nQ 56.78125 9.90625 50.3125 4.234375 \r\nQ 43.84375 -1.421875 31.78125 -1.421875 \r\nQ 19.734375 -1.421875 13.25 4.234375 \r\nQ 6.78125 9.90625 6.78125 20.515625 \r\nQ 6.78125 27.484375 10.78125 32.3125 \r\nQ 14.796875 37.15625 21.921875 38.8125 \r\nz\r\nM 18.3125 54.390625 \r\nQ 18.3125 48.734375 21.84375 45.5625 \r\nQ 25.390625 42.390625 31.78125 42.390625 \r\nQ 38.140625 42.390625 41.71875 45.5625 \r\nQ 45.3125 48.734375 45.3125 54.390625 \r\nQ 45.3125 60.0625 41.71875 63.234375 \r\nQ 38.140625 66.40625 31.78125 66.40625 \r\nQ 25.390625 66.40625 21.84375 63.234375 \r\nQ 18.3125 60.0625 18.3125 54.390625 \r\nz\r\n\" id=\"DejaVuSans-56\"/>\r\n      </defs>\r\n      <g style=\"fill:#ffffff;\" transform=\"translate(186.849664 239.238437)scale(0.1 -0.1)\">\r\n       <use xlink:href=\"#DejaVuSans-56\"/>\r\n      </g>\r\n     </g>\r\n    </g>\r\n    <g id=\"xtick_4\">\r\n     <g id=\"line2d_4\">\r\n      <g>\r\n       <use style=\"fill:#ffffff;stroke:#ffffff;stroke-width:0.8;\" x=\"245.369757\" xlink:href=\"#m65910c5998\" y=\"224.64\"/>\r\n      </g>\r\n     </g>\r\n     <g id=\"text_4\">\r\n      <!-- 10 -->\r\n      <defs>\r\n       <path d=\"M 12.40625 8.296875 \r\nL 28.515625 8.296875 \r\nL 28.515625 63.921875 \r\nL 10.984375 60.40625 \r\nL 10.984375 69.390625 \r\nL 28.421875 72.90625 \r\nL 38.28125 72.90625 \r\nL 38.28125 8.296875 \r\nL 54.390625 8.296875 \r\nL 54.390625 0 \r\nL 12.40625 0 \r\nz\r\n\" id=\"DejaVuSans-49\"/>\r\n       <path d=\"M 31.78125 66.40625 \r\nQ 24.171875 66.40625 20.328125 58.90625 \r\nQ 16.5 51.421875 16.5 36.375 \r\nQ 16.5 21.390625 20.328125 13.890625 \r\nQ 24.171875 6.390625 31.78125 6.390625 \r\nQ 39.453125 6.390625 43.28125 13.890625 \r\nQ 47.125 21.390625 47.125 36.375 \r\nQ 47.125 51.421875 43.28125 58.90625 \r\nQ 39.453125 66.40625 31.78125 66.40625 \r\nz\r\nM 31.78125 74.21875 \r\nQ 44.046875 74.21875 50.515625 64.515625 \r\nQ 56.984375 54.828125 56.984375 36.375 \r\nQ 56.984375 17.96875 50.515625 8.265625 \r\nQ 44.046875 -1.421875 31.78125 -1.421875 \r\nQ 19.53125 -1.421875 13.0625 8.265625 \r\nQ 6.59375 17.96875 6.59375 36.375 \r\nQ 6.59375 54.828125 13.0625 64.515625 \r\nQ 19.53125 74.21875 31.78125 74.21875 \r\nz\r\n\" id=\"DejaVuSans-48\"/>\r\n      </defs>\r\n      <g style=\"fill:#ffffff;\" transform=\"translate(239.007257 239.238437)scale(0.1 -0.1)\">\r\n       <use xlink:href=\"#DejaVuSans-49\"/>\r\n       <use x=\"63.623047\" xlink:href=\"#DejaVuSans-48\"/>\r\n      </g>\r\n     </g>\r\n    </g>\r\n    <g id=\"xtick_5\">\r\n     <g id=\"line2d_5\">\r\n      <g>\r\n       <use style=\"fill:#ffffff;stroke:#ffffff;stroke-width:0.8;\" x=\"300.7086\" xlink:href=\"#m65910c5998\" y=\"224.64\"/>\r\n      </g>\r\n     </g>\r\n     <g id=\"text_5\">\r\n      <!-- 12 -->\r\n      <defs>\r\n       <path d=\"M 19.1875 8.296875 \r\nL 53.609375 8.296875 \r\nL 53.609375 0 \r\nL 7.328125 0 \r\nL 7.328125 8.296875 \r\nQ 12.9375 14.109375 22.625 23.890625 \r\nQ 32.328125 33.6875 34.8125 36.53125 \r\nQ 39.546875 41.84375 41.421875 45.53125 \r\nQ 43.3125 49.21875 43.3125 52.78125 \r\nQ 43.3125 58.59375 39.234375 62.25 \r\nQ 35.15625 65.921875 28.609375 65.921875 \r\nQ 23.96875 65.921875 18.8125 64.3125 \r\nQ 13.671875 62.703125 7.8125 59.421875 \r\nL 7.8125 69.390625 \r\nQ 13.765625 71.78125 18.9375 73 \r\nQ 24.125 74.21875 28.421875 74.21875 \r\nQ 39.75 74.21875 46.484375 68.546875 \r\nQ 53.21875 62.890625 53.21875 53.421875 \r\nQ 53.21875 48.921875 51.53125 44.890625 \r\nQ 49.859375 40.875 45.40625 35.40625 \r\nQ 44.1875 33.984375 37.640625 27.21875 \r\nQ 31.109375 20.453125 19.1875 8.296875 \r\nz\r\n\" id=\"DejaVuSans-50\"/>\r\n      </defs>\r\n      <g style=\"fill:#ffffff;\" transform=\"translate(294.3461 239.238437)scale(0.1 -0.1)\">\r\n       <use xlink:href=\"#DejaVuSans-49\"/>\r\n       <use x=\"63.623047\" xlink:href=\"#DejaVuSans-50\"/>\r\n      </g>\r\n     </g>\r\n    </g>\r\n    <g id=\"xtick_6\">\r\n     <g id=\"line2d_6\">\r\n      <g>\r\n       <use style=\"fill:#ffffff;stroke:#ffffff;stroke-width:0.8;\" x=\"356.047443\" xlink:href=\"#m65910c5998\" y=\"224.64\"/>\r\n      </g>\r\n     </g>\r\n     <g id=\"text_6\">\r\n      <!-- 14 -->\r\n      <g style=\"fill:#ffffff;\" transform=\"translate(349.684943 239.238437)scale(0.1 -0.1)\">\r\n       <use xlink:href=\"#DejaVuSans-49\"/>\r\n       <use x=\"63.623047\" xlink:href=\"#DejaVuSans-52\"/>\r\n      </g>\r\n     </g>\r\n    </g>\r\n   </g>\r\n   <g id=\"matplotlib.axis_2\">\r\n    <g id=\"ytick_1\">\r\n     <g id=\"line2d_7\">\r\n      <defs>\r\n       <path d=\"M 0 0 \r\nL -3.5 0 \r\n\" id=\"m2cbb0fabc1\" style=\"stroke:#ffffff;stroke-width:0.8;\"/>\r\n      </defs>\r\n      <g>\r\n       <use style=\"fill:#ffffff;stroke:#ffffff;stroke-width:0.8;\" x=\"36.465625\" xlink:href=\"#m2cbb0fabc1\" y=\"214.756364\"/>\r\n      </g>\r\n     </g>\r\n     <g id=\"text_7\">\r\n      <!-- 65.6 -->\r\n      <defs>\r\n       <path d=\"M 10.796875 72.90625 \r\nL 49.515625 72.90625 \r\nL 49.515625 64.59375 \r\nL 19.828125 64.59375 \r\nL 19.828125 46.734375 \r\nQ 21.96875 47.46875 24.109375 47.828125 \r\nQ 26.265625 48.1875 28.421875 48.1875 \r\nQ 40.625 48.1875 47.75 41.5 \r\nQ 54.890625 34.8125 54.890625 23.390625 \r\nQ 54.890625 11.625 47.5625 5.09375 \r\nQ 40.234375 -1.421875 26.90625 -1.421875 \r\nQ 22.3125 -1.421875 17.546875 -0.640625 \r\nQ 12.796875 0.140625 7.71875 1.703125 \r\nL 7.71875 11.625 \r\nQ 12.109375 9.234375 16.796875 8.0625 \r\nQ 21.484375 6.890625 26.703125 6.890625 \r\nQ 35.15625 6.890625 40.078125 11.328125 \r\nQ 45.015625 15.765625 45.015625 23.390625 \r\nQ 45.015625 31 40.078125 35.4375 \r\nQ 35.15625 39.890625 26.703125 39.890625 \r\nQ 22.75 39.890625 18.8125 39.015625 \r\nQ 14.890625 38.140625 10.796875 36.28125 \r\nz\r\n\" id=\"DejaVuSans-53\"/>\r\n       <path d=\"M 10.6875 12.40625 \r\nL 21 12.40625 \r\nL 21 0 \r\nL 10.6875 0 \r\nz\r\n\" id=\"DejaVuSans-46\"/>\r\n      </defs>\r\n      <g style=\"fill:#ffffff;\" transform=\"translate(7.2 218.555582)scale(0.1 -0.1)\">\r\n       <use xlink:href=\"#DejaVuSans-54\"/>\r\n       <use x=\"63.623047\" xlink:href=\"#DejaVuSans-53\"/>\r\n       <use x=\"127.246094\" xlink:href=\"#DejaVuSans-46\"/>\r\n       <use x=\"159.033203\" xlink:href=\"#DejaVuSans-54\"/>\r\n      </g>\r\n     </g>\r\n    </g>\r\n    <g id=\"ytick_2\">\r\n     <g id=\"line2d_8\">\r\n      <g>\r\n       <use style=\"fill:#ffffff;stroke:#ffffff;stroke-width:0.8;\" x=\"36.465625\" xlink:href=\"#m2cbb0fabc1\" y=\"177.459623\"/>\r\n      </g>\r\n     </g>\r\n     <g id=\"text_8\">\r\n      <!-- 65.7 -->\r\n      <defs>\r\n       <path d=\"M 8.203125 72.90625 \r\nL 55.078125 72.90625 \r\nL 55.078125 68.703125 \r\nL 28.609375 0 \r\nL 18.3125 0 \r\nL 43.21875 64.59375 \r\nL 8.203125 64.59375 \r\nz\r\n\" id=\"DejaVuSans-55\"/>\r\n      </defs>\r\n      <g style=\"fill:#ffffff;\" transform=\"translate(7.2 181.258841)scale(0.1 -0.1)\">\r\n       <use xlink:href=\"#DejaVuSans-54\"/>\r\n       <use x=\"63.623047\" xlink:href=\"#DejaVuSans-53\"/>\r\n       <use x=\"127.246094\" xlink:href=\"#DejaVuSans-46\"/>\r\n       <use x=\"159.033203\" xlink:href=\"#DejaVuSans-55\"/>\r\n      </g>\r\n     </g>\r\n    </g>\r\n    <g id=\"ytick_3\">\r\n     <g id=\"line2d_9\">\r\n      <g>\r\n       <use style=\"fill:#ffffff;stroke:#ffffff;stroke-width:0.8;\" x=\"36.465625\" xlink:href=\"#m2cbb0fabc1\" y=\"140.162882\"/>\r\n      </g>\r\n     </g>\r\n     <g id=\"text_9\">\r\n      <!-- 65.8 -->\r\n      <g style=\"fill:#ffffff;\" transform=\"translate(7.2 143.9621)scale(0.1 -0.1)\">\r\n       <use xlink:href=\"#DejaVuSans-54\"/>\r\n       <use x=\"63.623047\" xlink:href=\"#DejaVuSans-53\"/>\r\n       <use x=\"127.246094\" xlink:href=\"#DejaVuSans-46\"/>\r\n       <use x=\"159.033203\" xlink:href=\"#DejaVuSans-56\"/>\r\n      </g>\r\n     </g>\r\n    </g>\r\n    <g id=\"ytick_4\">\r\n     <g id=\"line2d_10\">\r\n      <g>\r\n       <use style=\"fill:#ffffff;stroke:#ffffff;stroke-width:0.8;\" x=\"36.465625\" xlink:href=\"#m2cbb0fabc1\" y=\"102.866141\"/>\r\n      </g>\r\n     </g>\r\n     <g id=\"text_10\">\r\n      <!-- 65.9 -->\r\n      <defs>\r\n       <path d=\"M 10.984375 1.515625 \r\nL 10.984375 10.5 \r\nQ 14.703125 8.734375 18.5 7.8125 \r\nQ 22.3125 6.890625 25.984375 6.890625 \r\nQ 35.75 6.890625 40.890625 13.453125 \r\nQ 46.046875 20.015625 46.78125 33.40625 \r\nQ 43.953125 29.203125 39.59375 26.953125 \r\nQ 35.25 24.703125 29.984375 24.703125 \r\nQ 19.046875 24.703125 12.671875 31.3125 \r\nQ 6.296875 37.9375 6.296875 49.421875 \r\nQ 6.296875 60.640625 12.9375 67.421875 \r\nQ 19.578125 74.21875 30.609375 74.21875 \r\nQ 43.265625 74.21875 49.921875 64.515625 \r\nQ 56.59375 54.828125 56.59375 36.375 \r\nQ 56.59375 19.140625 48.40625 8.859375 \r\nQ 40.234375 -1.421875 26.421875 -1.421875 \r\nQ 22.703125 -1.421875 18.890625 -0.6875 \r\nQ 15.09375 0.046875 10.984375 1.515625 \r\nz\r\nM 30.609375 32.421875 \r\nQ 37.25 32.421875 41.125 36.953125 \r\nQ 45.015625 41.5 45.015625 49.421875 \r\nQ 45.015625 57.28125 41.125 61.84375 \r\nQ 37.25 66.40625 30.609375 66.40625 \r\nQ 23.96875 66.40625 20.09375 61.84375 \r\nQ 16.21875 57.28125 16.21875 49.421875 \r\nQ 16.21875 41.5 20.09375 36.953125 \r\nQ 23.96875 32.421875 30.609375 32.421875 \r\nz\r\n\" id=\"DejaVuSans-57\"/>\r\n      </defs>\r\n      <g style=\"fill:#ffffff;\" transform=\"translate(7.2 106.665359)scale(0.1 -0.1)\">\r\n       <use xlink:href=\"#DejaVuSans-54\"/>\r\n       <use x=\"63.623047\" xlink:href=\"#DejaVuSans-53\"/>\r\n       <use x=\"127.246094\" xlink:href=\"#DejaVuSans-46\"/>\r\n       <use x=\"159.033203\" xlink:href=\"#DejaVuSans-57\"/>\r\n      </g>\r\n     </g>\r\n    </g>\r\n    <g id=\"ytick_5\">\r\n     <g id=\"line2d_11\">\r\n      <g>\r\n       <use style=\"fill:#ffffff;stroke:#ffffff;stroke-width:0.8;\" x=\"36.465625\" xlink:href=\"#m2cbb0fabc1\" y=\"65.5694\"/>\r\n      </g>\r\n     </g>\r\n     <g id=\"text_11\">\r\n      <!-- 66.0 -->\r\n      <g style=\"fill:#ffffff;\" transform=\"translate(7.2 69.368618)scale(0.1 -0.1)\">\r\n       <use xlink:href=\"#DejaVuSans-54\"/>\r\n       <use x=\"63.623047\" xlink:href=\"#DejaVuSans-54\"/>\r\n       <use x=\"127.246094\" xlink:href=\"#DejaVuSans-46\"/>\r\n       <use x=\"159.033203\" xlink:href=\"#DejaVuSans-48\"/>\r\n      </g>\r\n     </g>\r\n    </g>\r\n    <g id=\"ytick_6\">\r\n     <g id=\"line2d_12\">\r\n      <g>\r\n       <use style=\"fill:#ffffff;stroke:#ffffff;stroke-width:0.8;\" x=\"36.465625\" xlink:href=\"#m2cbb0fabc1\" y=\"28.272659\"/>\r\n      </g>\r\n     </g>\r\n     <g id=\"text_12\">\r\n      <!-- 66.1 -->\r\n      <g style=\"fill:#ffffff;\" transform=\"translate(7.2 32.071877)scale(0.1 -0.1)\">\r\n       <use xlink:href=\"#DejaVuSans-54\"/>\r\n       <use x=\"63.623047\" xlink:href=\"#DejaVuSans-54\"/>\r\n       <use x=\"127.246094\" xlink:href=\"#DejaVuSans-46\"/>\r\n       <use x=\"159.033203\" xlink:href=\"#DejaVuSans-49\"/>\r\n      </g>\r\n     </g>\r\n    </g>\r\n   </g>\r\n   <g id=\"line2d_13\">\r\n    <path clip-path=\"url(#pf4a264536b)\" d=\"M 51.683807 173.729949 \r\nL 79.353228 173.729949 \r\nL 107.02265 87.947444 \r\nL 134.692071 102.866141 \r\nL 162.361493 61.839726 \r\nL 190.030914 73.028748 \r\nL 217.700336 117.784837 \r\nL 245.369757 143.892556 \r\nL 273.039179 102.866141 \r\nL 300.7086 117.784837 \r\nL 328.378022 17.083636 \r\nL 356.047443 214.756364 \r\n\" style=\"fill:none;stroke:#8dd3c7;stroke-linecap:square;stroke-width:1.5;\"/>\r\n   </g>\r\n   <g id=\"patch_3\">\r\n    <path d=\"M 36.465625 224.64 \r\nL 36.465625 7.2 \r\n\" style=\"fill:none;stroke:#ffffff;stroke-linecap:square;stroke-linejoin:miter;stroke-width:0.8;\"/>\r\n   </g>\r\n   <g id=\"patch_4\">\r\n    <path d=\"M 371.265625 224.64 \r\nL 371.265625 7.2 \r\n\" style=\"fill:none;stroke:#ffffff;stroke-linecap:square;stroke-linejoin:miter;stroke-width:0.8;\"/>\r\n   </g>\r\n   <g id=\"patch_5\">\r\n    <path d=\"M 36.465625 224.64 \r\nL 371.265625 224.64 \r\n\" style=\"fill:none;stroke:#ffffff;stroke-linecap:square;stroke-linejoin:miter;stroke-width:0.8;\"/>\r\n   </g>\r\n   <g id=\"patch_6\">\r\n    <path d=\"M 36.465625 7.2 \r\nL 371.265625 7.2 \r\n\" style=\"fill:none;stroke:#ffffff;stroke-linecap:square;stroke-linejoin:miter;stroke-width:0.8;\"/>\r\n   </g>\r\n  </g>\r\n </g>\r\n <defs>\r\n  <clipPath id=\"pf4a264536b\">\r\n   <rect height=\"217.44\" width=\"334.8\" x=\"36.465625\" y=\"7.2\"/>\r\n  </clipPath>\r\n </defs>\r\n</svg>\r\n",
      "image/png": "[encoded data removed]"
     },
     "metadata": {}
    }
   ],
   "source": [
    "# Altering hyper-parameters\n",
    "ran = range(3,15)\n",
    "scores=[]\n",
    "for i in ran:\n",
    "    rfc = RandomForestClassifier(max_depth = i)\n",
    "    # Training Model\n",
    "    rfc.fit(trainx, trainy) \n",
    "    # Finding Score\n",
    "    sc=rfc.score(testx, testy)\n",
    "    scores.append((sc*100).round(2))\n",
    "import matplotlib.pyplot as plt \n",
    "plt.plot (ran ,scores)"
   ]
  },
  {
   "cell_type": "code",
   "execution_count": 59,
   "metadata": {},
   "outputs": [
    {
     "output_type": "execute_result",
     "data": {
      "text/plain": "[<matplotlib.lines.Line2D at 0x2d30f8a6188>]"
     },
     "metadata": {},
     "execution_count": 59
    },
    {
     "output_type": "display_data",
     "data": {
      "text/plain": "<Figure size 432x288 with 1 Axes>",
      "image/svg+xml": "<?xml version=\"1.0\" encoding=\"utf-8\" standalone=\"no\"?>\r\n<!DOCTYPE svg PUBLIC \"-//W3C//DTD SVG 1.1//EN\"\r\n  \"http://www.w3.org/Graphics/SVG/1.1/DTD/svg11.dtd\">\r\n<!-- Created with matplotlib (https://matplotlib.org/) -->\r\n<svg height=\"248.518125pt\" version=\"1.1\" viewBox=\"0 0 378.465625 248.518125\" width=\"378.465625pt\" xmlns=\"http://www.w3.org/2000/svg\" xmlns:xlink=\"http://www.w3.org/1999/xlink\">\r\n <defs>\r\n  <style type=\"text/css\">\r\n*{stroke-linecap:butt;stroke-linejoin:round;}\r\n  </style>\r\n </defs>\r\n <g id=\"figure_1\">\r\n  <g id=\"patch_1\">\r\n   <path d=\"M 0 248.518125 \r\nL 378.465625 248.518125 \r\nL 378.465625 0 \r\nL 0 0 \r\nz\r\n\"/>\r\n  </g>\r\n  <g id=\"axes_1\">\r\n   <g id=\"patch_2\">\r\n    <path d=\"M 36.465625 224.64 \r\nL 371.265625 224.64 \r\nL 371.265625 7.2 \r\nL 36.465625 7.2 \r\nz\r\n\"/>\r\n   </g>\r\n   <g id=\"matplotlib.axis_1\">\r\n    <g id=\"xtick_1\">\r\n     <g id=\"line2d_1\">\r\n      <defs>\r\n       <path d=\"M 0 0 \r\nL 0 3.5 \r\n\" id=\"m0679118983\" style=\"stroke:#ffffff;stroke-width:0.8;\"/>\r\n      </defs>\r\n      <g>\r\n       <use style=\"fill:#ffffff;stroke:#ffffff;stroke-width:0.8;\" x=\"51.683807\" xlink:href=\"#m0679118983\" y=\"224.64\"/>\r\n      </g>\r\n     </g>\r\n     <g id=\"text_1\">\r\n      <!-- 1.0 -->\r\n      <defs>\r\n       <path d=\"M 12.40625 8.296875 \r\nL 28.515625 8.296875 \r\nL 28.515625 63.921875 \r\nL 10.984375 60.40625 \r\nL 10.984375 69.390625 \r\nL 28.421875 72.90625 \r\nL 38.28125 72.90625 \r\nL 38.28125 8.296875 \r\nL 54.390625 8.296875 \r\nL 54.390625 0 \r\nL 12.40625 0 \r\nz\r\n\" id=\"DejaVuSans-49\"/>\r\n       <path d=\"M 10.6875 12.40625 \r\nL 21 12.40625 \r\nL 21 0 \r\nL 10.6875 0 \r\nz\r\n\" id=\"DejaVuSans-46\"/>\r\n       <path d=\"M 31.78125 66.40625 \r\nQ 24.171875 66.40625 20.328125 58.90625 \r\nQ 16.5 51.421875 16.5 36.375 \r\nQ 16.5 21.390625 20.328125 13.890625 \r\nQ 24.171875 6.390625 31.78125 6.390625 \r\nQ 39.453125 6.390625 43.28125 13.890625 \r\nQ 47.125 21.390625 47.125 36.375 \r\nQ 47.125 51.421875 43.28125 58.90625 \r\nQ 39.453125 66.40625 31.78125 66.40625 \r\nz\r\nM 31.78125 74.21875 \r\nQ 44.046875 74.21875 50.515625 64.515625 \r\nQ 56.984375 54.828125 56.984375 36.375 \r\nQ 56.984375 17.96875 50.515625 8.265625 \r\nQ 44.046875 -1.421875 31.78125 -1.421875 \r\nQ 19.53125 -1.421875 13.0625 8.265625 \r\nQ 6.59375 17.96875 6.59375 36.375 \r\nQ 6.59375 54.828125 13.0625 64.515625 \r\nQ 19.53125 74.21875 31.78125 74.21875 \r\nz\r\n\" id=\"DejaVuSans-48\"/>\r\n      </defs>\r\n      <g style=\"fill:#ffffff;\" transform=\"translate(43.732244 239.238437)scale(0.1 -0.1)\">\r\n       <use xlink:href=\"#DejaVuSans-49\"/>\r\n       <use x=\"63.623047\" xlink:href=\"#DejaVuSans-46\"/>\r\n       <use x=\"95.410156\" xlink:href=\"#DejaVuSans-48\"/>\r\n      </g>\r\n     </g>\r\n    </g>\r\n    <g id=\"xtick_2\">\r\n     <g id=\"line2d_2\">\r\n      <g>\r\n       <use style=\"fill:#ffffff;stroke:#ffffff;stroke-width:0.8;\" x=\"102.41108\" xlink:href=\"#m0679118983\" y=\"224.64\"/>\r\n      </g>\r\n     </g>\r\n     <g id=\"text_2\">\r\n      <!-- 1.5 -->\r\n      <defs>\r\n       <path d=\"M 10.796875 72.90625 \r\nL 49.515625 72.90625 \r\nL 49.515625 64.59375 \r\nL 19.828125 64.59375 \r\nL 19.828125 46.734375 \r\nQ 21.96875 47.46875 24.109375 47.828125 \r\nQ 26.265625 48.1875 28.421875 48.1875 \r\nQ 40.625 48.1875 47.75 41.5 \r\nQ 54.890625 34.8125 54.890625 23.390625 \r\nQ 54.890625 11.625 47.5625 5.09375 \r\nQ 40.234375 -1.421875 26.90625 -1.421875 \r\nQ 22.3125 -1.421875 17.546875 -0.640625 \r\nQ 12.796875 0.140625 7.71875 1.703125 \r\nL 7.71875 11.625 \r\nQ 12.109375 9.234375 16.796875 8.0625 \r\nQ 21.484375 6.890625 26.703125 6.890625 \r\nQ 35.15625 6.890625 40.078125 11.328125 \r\nQ 45.015625 15.765625 45.015625 23.390625 \r\nQ 45.015625 31 40.078125 35.4375 \r\nQ 35.15625 39.890625 26.703125 39.890625 \r\nQ 22.75 39.890625 18.8125 39.015625 \r\nQ 14.890625 38.140625 10.796875 36.28125 \r\nz\r\n\" id=\"DejaVuSans-53\"/>\r\n      </defs>\r\n      <g style=\"fill:#ffffff;\" transform=\"translate(94.459517 239.238437)scale(0.1 -0.1)\">\r\n       <use xlink:href=\"#DejaVuSans-49\"/>\r\n       <use x=\"63.623047\" xlink:href=\"#DejaVuSans-46\"/>\r\n       <use x=\"95.410156\" xlink:href=\"#DejaVuSans-53\"/>\r\n      </g>\r\n     </g>\r\n    </g>\r\n    <g id=\"xtick_3\">\r\n     <g id=\"line2d_3\">\r\n      <g>\r\n       <use style=\"fill:#ffffff;stroke:#ffffff;stroke-width:0.8;\" x=\"153.138352\" xlink:href=\"#m0679118983\" y=\"224.64\"/>\r\n      </g>\r\n     </g>\r\n     <g id=\"text_3\">\r\n      <!-- 2.0 -->\r\n      <defs>\r\n       <path d=\"M 19.1875 8.296875 \r\nL 53.609375 8.296875 \r\nL 53.609375 0 \r\nL 7.328125 0 \r\nL 7.328125 8.296875 \r\nQ 12.9375 14.109375 22.625 23.890625 \r\nQ 32.328125 33.6875 34.8125 36.53125 \r\nQ 39.546875 41.84375 41.421875 45.53125 \r\nQ 43.3125 49.21875 43.3125 52.78125 \r\nQ 43.3125 58.59375 39.234375 62.25 \r\nQ 35.15625 65.921875 28.609375 65.921875 \r\nQ 23.96875 65.921875 18.8125 64.3125 \r\nQ 13.671875 62.703125 7.8125 59.421875 \r\nL 7.8125 69.390625 \r\nQ 13.765625 71.78125 18.9375 73 \r\nQ 24.125 74.21875 28.421875 74.21875 \r\nQ 39.75 74.21875 46.484375 68.546875 \r\nQ 53.21875 62.890625 53.21875 53.421875 \r\nQ 53.21875 48.921875 51.53125 44.890625 \r\nQ 49.859375 40.875 45.40625 35.40625 \r\nQ 44.1875 33.984375 37.640625 27.21875 \r\nQ 31.109375 20.453125 19.1875 8.296875 \r\nz\r\n\" id=\"DejaVuSans-50\"/>\r\n      </defs>\r\n      <g style=\"fill:#ffffff;\" transform=\"translate(145.18679 239.238437)scale(0.1 -0.1)\">\r\n       <use xlink:href=\"#DejaVuSans-50\"/>\r\n       <use x=\"63.623047\" xlink:href=\"#DejaVuSans-46\"/>\r\n       <use x=\"95.410156\" xlink:href=\"#DejaVuSans-48\"/>\r\n      </g>\r\n     </g>\r\n    </g>\r\n    <g id=\"xtick_4\">\r\n     <g id=\"line2d_4\">\r\n      <g>\r\n       <use style=\"fill:#ffffff;stroke:#ffffff;stroke-width:0.8;\" x=\"203.865625\" xlink:href=\"#m0679118983\" y=\"224.64\"/>\r\n      </g>\r\n     </g>\r\n     <g id=\"text_4\">\r\n      <!-- 2.5 -->\r\n      <g style=\"fill:#ffffff;\" transform=\"translate(195.914062 239.238437)scale(0.1 -0.1)\">\r\n       <use xlink:href=\"#DejaVuSans-50\"/>\r\n       <use x=\"63.623047\" xlink:href=\"#DejaVuSans-46\"/>\r\n       <use x=\"95.410156\" xlink:href=\"#DejaVuSans-53\"/>\r\n      </g>\r\n     </g>\r\n    </g>\r\n    <g id=\"xtick_5\">\r\n     <g id=\"line2d_5\">\r\n      <g>\r\n       <use style=\"fill:#ffffff;stroke:#ffffff;stroke-width:0.8;\" x=\"254.592898\" xlink:href=\"#m0679118983\" y=\"224.64\"/>\r\n      </g>\r\n     </g>\r\n     <g id=\"text_5\">\r\n      <!-- 3.0 -->\r\n      <defs>\r\n       <path d=\"M 40.578125 39.3125 \r\nQ 47.65625 37.796875 51.625 33 \r\nQ 55.609375 28.21875 55.609375 21.1875 \r\nQ 55.609375 10.40625 48.1875 4.484375 \r\nQ 40.765625 -1.421875 27.09375 -1.421875 \r\nQ 22.515625 -1.421875 17.65625 -0.515625 \r\nQ 12.796875 0.390625 7.625 2.203125 \r\nL 7.625 11.71875 \r\nQ 11.71875 9.328125 16.59375 8.109375 \r\nQ 21.484375 6.890625 26.8125 6.890625 \r\nQ 36.078125 6.890625 40.9375 10.546875 \r\nQ 45.796875 14.203125 45.796875 21.1875 \r\nQ 45.796875 27.640625 41.28125 31.265625 \r\nQ 36.765625 34.90625 28.71875 34.90625 \r\nL 20.21875 34.90625 \r\nL 20.21875 43.015625 \r\nL 29.109375 43.015625 \r\nQ 36.375 43.015625 40.234375 45.921875 \r\nQ 44.09375 48.828125 44.09375 54.296875 \r\nQ 44.09375 59.90625 40.109375 62.90625 \r\nQ 36.140625 65.921875 28.71875 65.921875 \r\nQ 24.65625 65.921875 20.015625 65.03125 \r\nQ 15.375 64.15625 9.8125 62.3125 \r\nL 9.8125 71.09375 \r\nQ 15.4375 72.65625 20.34375 73.4375 \r\nQ 25.25 74.21875 29.59375 74.21875 \r\nQ 40.828125 74.21875 47.359375 69.109375 \r\nQ 53.90625 64.015625 53.90625 55.328125 \r\nQ 53.90625 49.265625 50.4375 45.09375 \r\nQ 46.96875 40.921875 40.578125 39.3125 \r\nz\r\n\" id=\"DejaVuSans-51\"/>\r\n      </defs>\r\n      <g style=\"fill:#ffffff;\" transform=\"translate(246.641335 239.238437)scale(0.1 -0.1)\">\r\n       <use xlink:href=\"#DejaVuSans-51\"/>\r\n       <use x=\"63.623047\" xlink:href=\"#DejaVuSans-46\"/>\r\n       <use x=\"95.410156\" xlink:href=\"#DejaVuSans-48\"/>\r\n      </g>\r\n     </g>\r\n    </g>\r\n    <g id=\"xtick_6\">\r\n     <g id=\"line2d_6\">\r\n      <g>\r\n       <use style=\"fill:#ffffff;stroke:#ffffff;stroke-width:0.8;\" x=\"305.32017\" xlink:href=\"#m0679118983\" y=\"224.64\"/>\r\n      </g>\r\n     </g>\r\n     <g id=\"text_6\">\r\n      <!-- 3.5 -->\r\n      <g style=\"fill:#ffffff;\" transform=\"translate(297.368608 239.238437)scale(0.1 -0.1)\">\r\n       <use xlink:href=\"#DejaVuSans-51\"/>\r\n       <use x=\"63.623047\" xlink:href=\"#DejaVuSans-46\"/>\r\n       <use x=\"95.410156\" xlink:href=\"#DejaVuSans-53\"/>\r\n      </g>\r\n     </g>\r\n    </g>\r\n    <g id=\"xtick_7\">\r\n     <g id=\"line2d_7\">\r\n      <g>\r\n       <use style=\"fill:#ffffff;stroke:#ffffff;stroke-width:0.8;\" x=\"356.047443\" xlink:href=\"#m0679118983\" y=\"224.64\"/>\r\n      </g>\r\n     </g>\r\n     <g id=\"text_7\">\r\n      <!-- 4.0 -->\r\n      <defs>\r\n       <path d=\"M 37.796875 64.3125 \r\nL 12.890625 25.390625 \r\nL 37.796875 25.390625 \r\nz\r\nM 35.203125 72.90625 \r\nL 47.609375 72.90625 \r\nL 47.609375 25.390625 \r\nL 58.015625 25.390625 \r\nL 58.015625 17.1875 \r\nL 47.609375 17.1875 \r\nL 47.609375 0 \r\nL 37.796875 0 \r\nL 37.796875 17.1875 \r\nL 4.890625 17.1875 \r\nL 4.890625 26.703125 \r\nz\r\n\" id=\"DejaVuSans-52\"/>\r\n      </defs>\r\n      <g style=\"fill:#ffffff;\" transform=\"translate(348.095881 239.238437)scale(0.1 -0.1)\">\r\n       <use xlink:href=\"#DejaVuSans-52\"/>\r\n       <use x=\"63.623047\" xlink:href=\"#DejaVuSans-46\"/>\r\n       <use x=\"95.410156\" xlink:href=\"#DejaVuSans-48\"/>\r\n      </g>\r\n     </g>\r\n    </g>\r\n   </g>\r\n   <g id=\"matplotlib.axis_2\">\r\n    <g id=\"ytick_1\">\r\n     <g id=\"line2d_8\">\r\n      <defs>\r\n       <path d=\"M 0 0 \r\nL -3.5 0 \r\n\" id=\"m97cbbdd72a\" style=\"stroke:#ffffff;stroke-width:0.8;\"/>\r\n      </defs>\r\n      <g>\r\n       <use style=\"fill:#ffffff;stroke:#ffffff;stroke-width:0.8;\" x=\"36.465625\" xlink:href=\"#m97cbbdd72a\" y=\"214.756364\"/>\r\n      </g>\r\n     </g>\r\n     <g id=\"text_8\">\r\n      <!-- 65.6 -->\r\n      <defs>\r\n       <path d=\"M 33.015625 40.375 \r\nQ 26.375 40.375 22.484375 35.828125 \r\nQ 18.609375 31.296875 18.609375 23.390625 \r\nQ 18.609375 15.53125 22.484375 10.953125 \r\nQ 26.375 6.390625 33.015625 6.390625 \r\nQ 39.65625 6.390625 43.53125 10.953125 \r\nQ 47.40625 15.53125 47.40625 23.390625 \r\nQ 47.40625 31.296875 43.53125 35.828125 \r\nQ 39.65625 40.375 33.015625 40.375 \r\nz\r\nM 52.59375 71.296875 \r\nL 52.59375 62.3125 \r\nQ 48.875 64.0625 45.09375 64.984375 \r\nQ 41.3125 65.921875 37.59375 65.921875 \r\nQ 27.828125 65.921875 22.671875 59.328125 \r\nQ 17.53125 52.734375 16.796875 39.40625 \r\nQ 19.671875 43.65625 24.015625 45.921875 \r\nQ 28.375 48.1875 33.59375 48.1875 \r\nQ 44.578125 48.1875 50.953125 41.515625 \r\nQ 57.328125 34.859375 57.328125 23.390625 \r\nQ 57.328125 12.15625 50.6875 5.359375 \r\nQ 44.046875 -1.421875 33.015625 -1.421875 \r\nQ 20.359375 -1.421875 13.671875 8.265625 \r\nQ 6.984375 17.96875 6.984375 36.375 \r\nQ 6.984375 53.65625 15.1875 63.9375 \r\nQ 23.390625 74.21875 37.203125 74.21875 \r\nQ 40.921875 74.21875 44.703125 73.484375 \r\nQ 48.484375 72.75 52.59375 71.296875 \r\nz\r\n\" id=\"DejaVuSans-54\"/>\r\n      </defs>\r\n      <g style=\"fill:#ffffff;\" transform=\"translate(7.2 218.555582)scale(0.1 -0.1)\">\r\n       <use xlink:href=\"#DejaVuSans-54\"/>\r\n       <use x=\"63.623047\" xlink:href=\"#DejaVuSans-53\"/>\r\n       <use x=\"127.246094\" xlink:href=\"#DejaVuSans-46\"/>\r\n       <use x=\"159.033203\" xlink:href=\"#DejaVuSans-54\"/>\r\n      </g>\r\n     </g>\r\n    </g>\r\n    <g id=\"ytick_2\">\r\n     <g id=\"line2d_9\">\r\n      <g>\r\n       <use style=\"fill:#ffffff;stroke:#ffffff;stroke-width:0.8;\" x=\"36.465625\" xlink:href=\"#m97cbbdd72a\" y=\"166.543503\"/>\r\n      </g>\r\n     </g>\r\n     <g id=\"text_9\">\r\n      <!-- 65.7 -->\r\n      <defs>\r\n       <path d=\"M 8.203125 72.90625 \r\nL 55.078125 72.90625 \r\nL 55.078125 68.703125 \r\nL 28.609375 0 \r\nL 18.3125 0 \r\nL 43.21875 64.59375 \r\nL 8.203125 64.59375 \r\nz\r\n\" id=\"DejaVuSans-55\"/>\r\n      </defs>\r\n      <g style=\"fill:#ffffff;\" transform=\"translate(7.2 170.342722)scale(0.1 -0.1)\">\r\n       <use xlink:href=\"#DejaVuSans-54\"/>\r\n       <use x=\"63.623047\" xlink:href=\"#DejaVuSans-53\"/>\r\n       <use x=\"127.246094\" xlink:href=\"#DejaVuSans-46\"/>\r\n       <use x=\"159.033203\" xlink:href=\"#DejaVuSans-55\"/>\r\n      </g>\r\n     </g>\r\n    </g>\r\n    <g id=\"ytick_3\">\r\n     <g id=\"line2d_10\">\r\n      <g>\r\n       <use style=\"fill:#ffffff;stroke:#ffffff;stroke-width:0.8;\" x=\"36.465625\" xlink:href=\"#m97cbbdd72a\" y=\"118.330643\"/>\r\n      </g>\r\n     </g>\r\n     <g id=\"text_10\">\r\n      <!-- 65.8 -->\r\n      <defs>\r\n       <path d=\"M 31.78125 34.625 \r\nQ 24.75 34.625 20.71875 30.859375 \r\nQ 16.703125 27.09375 16.703125 20.515625 \r\nQ 16.703125 13.921875 20.71875 10.15625 \r\nQ 24.75 6.390625 31.78125 6.390625 \r\nQ 38.8125 6.390625 42.859375 10.171875 \r\nQ 46.921875 13.96875 46.921875 20.515625 \r\nQ 46.921875 27.09375 42.890625 30.859375 \r\nQ 38.875 34.625 31.78125 34.625 \r\nz\r\nM 21.921875 38.8125 \r\nQ 15.578125 40.375 12.03125 44.71875 \r\nQ 8.5 49.078125 8.5 55.328125 \r\nQ 8.5 64.0625 14.71875 69.140625 \r\nQ 20.953125 74.21875 31.78125 74.21875 \r\nQ 42.671875 74.21875 48.875 69.140625 \r\nQ 55.078125 64.0625 55.078125 55.328125 \r\nQ 55.078125 49.078125 51.53125 44.71875 \r\nQ 48 40.375 41.703125 38.8125 \r\nQ 48.828125 37.15625 52.796875 32.3125 \r\nQ 56.78125 27.484375 56.78125 20.515625 \r\nQ 56.78125 9.90625 50.3125 4.234375 \r\nQ 43.84375 -1.421875 31.78125 -1.421875 \r\nQ 19.734375 -1.421875 13.25 4.234375 \r\nQ 6.78125 9.90625 6.78125 20.515625 \r\nQ 6.78125 27.484375 10.78125 32.3125 \r\nQ 14.796875 37.15625 21.921875 38.8125 \r\nz\r\nM 18.3125 54.390625 \r\nQ 18.3125 48.734375 21.84375 45.5625 \r\nQ 25.390625 42.390625 31.78125 42.390625 \r\nQ 38.140625 42.390625 41.71875 45.5625 \r\nQ 45.3125 48.734375 45.3125 54.390625 \r\nQ 45.3125 60.0625 41.71875 63.234375 \r\nQ 38.140625 66.40625 31.78125 66.40625 \r\nQ 25.390625 66.40625 21.84375 63.234375 \r\nQ 18.3125 60.0625 18.3125 54.390625 \r\nz\r\n\" id=\"DejaVuSans-56\"/>\r\n      </defs>\r\n      <g style=\"fill:#ffffff;\" transform=\"translate(7.2 122.129862)scale(0.1 -0.1)\">\r\n       <use xlink:href=\"#DejaVuSans-54\"/>\r\n       <use x=\"63.623047\" xlink:href=\"#DejaVuSans-53\"/>\r\n       <use x=\"127.246094\" xlink:href=\"#DejaVuSans-46\"/>\r\n       <use x=\"159.033203\" xlink:href=\"#DejaVuSans-56\"/>\r\n      </g>\r\n     </g>\r\n    </g>\r\n    <g id=\"ytick_4\">\r\n     <g id=\"line2d_11\">\r\n      <g>\r\n       <use style=\"fill:#ffffff;stroke:#ffffff;stroke-width:0.8;\" x=\"36.465625\" xlink:href=\"#m97cbbdd72a\" y=\"70.117783\"/>\r\n      </g>\r\n     </g>\r\n     <g id=\"text_11\">\r\n      <!-- 65.9 -->\r\n      <defs>\r\n       <path d=\"M 10.984375 1.515625 \r\nL 10.984375 10.5 \r\nQ 14.703125 8.734375 18.5 7.8125 \r\nQ 22.3125 6.890625 25.984375 6.890625 \r\nQ 35.75 6.890625 40.890625 13.453125 \r\nQ 46.046875 20.015625 46.78125 33.40625 \r\nQ 43.953125 29.203125 39.59375 26.953125 \r\nQ 35.25 24.703125 29.984375 24.703125 \r\nQ 19.046875 24.703125 12.671875 31.3125 \r\nQ 6.296875 37.9375 6.296875 49.421875 \r\nQ 6.296875 60.640625 12.9375 67.421875 \r\nQ 19.578125 74.21875 30.609375 74.21875 \r\nQ 43.265625 74.21875 49.921875 64.515625 \r\nQ 56.59375 54.828125 56.59375 36.375 \r\nQ 56.59375 19.140625 48.40625 8.859375 \r\nQ 40.234375 -1.421875 26.421875 -1.421875 \r\nQ 22.703125 -1.421875 18.890625 -0.6875 \r\nQ 15.09375 0.046875 10.984375 1.515625 \r\nz\r\nM 30.609375 32.421875 \r\nQ 37.25 32.421875 41.125 36.953125 \r\nQ 45.015625 41.5 45.015625 49.421875 \r\nQ 45.015625 57.28125 41.125 61.84375 \r\nQ 37.25 66.40625 30.609375 66.40625 \r\nQ 23.96875 66.40625 20.09375 61.84375 \r\nQ 16.21875 57.28125 16.21875 49.421875 \r\nQ 16.21875 41.5 20.09375 36.953125 \r\nQ 23.96875 32.421875 30.609375 32.421875 \r\nz\r\n\" id=\"DejaVuSans-57\"/>\r\n      </defs>\r\n      <g style=\"fill:#ffffff;\" transform=\"translate(7.2 73.917001)scale(0.1 -0.1)\">\r\n       <use xlink:href=\"#DejaVuSans-54\"/>\r\n       <use x=\"63.623047\" xlink:href=\"#DejaVuSans-53\"/>\r\n       <use x=\"127.246094\" xlink:href=\"#DejaVuSans-46\"/>\r\n       <use x=\"159.033203\" xlink:href=\"#DejaVuSans-57\"/>\r\n      </g>\r\n     </g>\r\n    </g>\r\n    <g id=\"ytick_5\">\r\n     <g id=\"line2d_12\">\r\n      <g>\r\n       <use style=\"fill:#ffffff;stroke:#ffffff;stroke-width:0.8;\" x=\"36.465625\" xlink:href=\"#m97cbbdd72a\" y=\"21.904922\"/>\r\n      </g>\r\n     </g>\r\n     <g id=\"text_12\">\r\n      <!-- 66.0 -->\r\n      <g style=\"fill:#ffffff;\" transform=\"translate(7.2 25.704141)scale(0.1 -0.1)\">\r\n       <use xlink:href=\"#DejaVuSans-54\"/>\r\n       <use x=\"63.623047\" xlink:href=\"#DejaVuSans-54\"/>\r\n       <use x=\"127.246094\" xlink:href=\"#DejaVuSans-46\"/>\r\n       <use x=\"159.033203\" xlink:href=\"#DejaVuSans-48\"/>\r\n      </g>\r\n     </g>\r\n    </g>\r\n   </g>\r\n   <g id=\"line2d_13\">\r\n    <path clip-path=\"url(#p6112ce1465)\" d=\"M 51.683807 214.756364 \r\nL 153.138352 17.083636 \r\nL 254.592898 214.756364 \r\nL 356.047443 31.547494 \r\n\" style=\"fill:none;stroke:#8dd3c7;stroke-linecap:square;stroke-width:1.5;\"/>\r\n   </g>\r\n   <g id=\"patch_3\">\r\n    <path d=\"M 36.465625 224.64 \r\nL 36.465625 7.2 \r\n\" style=\"fill:none;stroke:#ffffff;stroke-linecap:square;stroke-linejoin:miter;stroke-width:0.8;\"/>\r\n   </g>\r\n   <g id=\"patch_4\">\r\n    <path d=\"M 371.265625 224.64 \r\nL 371.265625 7.2 \r\n\" style=\"fill:none;stroke:#ffffff;stroke-linecap:square;stroke-linejoin:miter;stroke-width:0.8;\"/>\r\n   </g>\r\n   <g id=\"patch_5\">\r\n    <path d=\"M 36.465625 224.64 \r\nL 371.265625 224.64 \r\n\" style=\"fill:none;stroke:#ffffff;stroke-linecap:square;stroke-linejoin:miter;stroke-width:0.8;\"/>\r\n   </g>\r\n   <g id=\"patch_6\">\r\n    <path d=\"M 36.465625 7.2 \r\nL 371.265625 7.2 \r\n\" style=\"fill:none;stroke:#ffffff;stroke-linecap:square;stroke-linejoin:miter;stroke-width:0.8;\"/>\r\n   </g>\r\n  </g>\r\n </g>\r\n <defs>\r\n  <clipPath id=\"p6112ce1465\">\r\n   <rect height=\"217.44\" width=\"334.8\" x=\"36.465625\" y=\"7.2\"/>\r\n  </clipPath>\r\n </defs>\r\n</svg>\r\n",
      "image/png": "[encoded data removed]"
     },
     "metadata": {}
    }
   ],
   "source": [
    "# Altering hyper-parameters\n",
    "ran = range(1,5)\n",
    "scores=[]\n",
    "for i in ran:\n",
    "    rfc = RandomForestClassifier(max_depth = 7, min_samples_leaf = i)\n",
    "    # Training Model\n",
    "    rfc.fit(trainx, trainy) \n",
    "    # Finding Score\n",
    "    sc=rfc.score(testx, testy)\n",
    "    scores.append((sc*100).round(2))\n",
    "import matplotlib.pyplot as plt \n",
    "plt.plot (ran ,scores)"
   ]
  },
  {
   "cell_type": "code",
   "execution_count": 63,
   "metadata": {
    "tags": []
   },
   "outputs": [
    {
     "output_type": "stream",
     "name": "stdout",
     "text": "Score = 65.03\n"
    }
   ],
   "source": [
    "# Hyper-Parameters= max_depth = 7, min_samples_leaf = 2\n",
    "# Final Model\n",
    "rfc = RandomForestClassifier(max_depth = 7, min_samples_leaf = 2)\n",
    "# Training Model\n",
    "rfc.fit(trainx, trainy) \n",
    "# Finding Score\n",
    "sc=rfc.score(testx, testy)\n",
    "# Printing score\n",
    "print(f'Score = {(score*100).round(2)}')"
   ]
  },
  {
   "cell_type": "markdown",
   "metadata": {},
   "source": [
    "### No change in score, it shows that model has automatically choosed the best values for the problem.\n",
    "##Final Accuracy = 65%"
   ]
  },
  {
   "cell_type": "code",
   "execution_count": null,
   "metadata": {},
   "outputs": [],
   "source": []
  }
 ],
 "metadata": {
  "language_info": {
   "codemirror_mode": {
    "name": "ipython",
    "version": 3
   },
   "file_extension": ".py",
   "mimetype": "text/x-python",
   "name": "python",
   "nbconvert_exporter": "python",
   "pygments_lexer": "ipython3",
   "version": "3.7.6-final"
  },
  "orig_nbformat": 2,
  "kernelspec": {
   "name": "python3",
   "display_name": "Python 3"
  }
 },
 "nbformat": 4,
 "nbformat_minor": 2
}