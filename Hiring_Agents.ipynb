{
 "cells": [
  {
   "cell_type": "markdown",
   "metadata": {},
   "source": [
    "# Problem Statement\n",
    "Your client is a financial distribution company. Over the last 10 years, they have created an offline distribution channel across the country. They sell financial products to consumers by hiring agents in their network. These agents are freelancers and get a commission when they make a product sale.\n",
    "\n",
    "Overview of your client onboarding process\n",
    "\n",
    "    The managers at your client are primarily responsible for recruiting agents. Once a manager has identified a potential applicant he would explain the business opportunity to the agent. Once the agent provides the consent, an application is made to your client to become an agent. In the next 3 months, this potential agent has to undergo a 7 days training at your client's branch (about sales processes and various products) and clear a subsequent examination in order to become an agent.\n",
    "\n",
    "The problem - who are the best agents?\n",
    "\n",
    "    As it is obvious in the above process, there is a significant investment which your client makes in identifying, training, and recruiting these agents. However, there are a set of agents who do not bring in the expected resultant business. Your client is looking for help from data scientists like you to help them provide insights using their past recruitment data. They want to predict the target variable for each potential agent which would help them identify the right agents to hire.\n",
    "\n",
    "Key Points: The evaluation metric to be used is ROC-AUC.\n",
    "\n",
    "Data \n",
    "Variable\tDefinition\n",
    "ID\tUnique Application ID\n",
    "Office_PIN\tPINCODE of Your client's Offices\n",
    "Applicant_City_PIN\tPINCODE of Applicant Address\n",
    "Applicant_Gender\tApplicant's Gender\n",
    "Applicant_Marital_Status\tApplicant's Marital Status\n",
    "Applicant_Occupation\tApplicant's Occupation\n",
    "Applicant_Qualification\tApplicant's Educational Qualification\n",
    "Manager_Joining_Designation\tManager's Joining Designation\n",
    "Manager_Current_Designation\tManager's Designation at the time of application sourcing\n",
    "Manager_Grade\tManager's Grade\n",
    "Manager_Status\tCurrent Employment Status (Probation/Confirmation)\n",
    "Manager_Gender\tManager's Gender\n",
    "Manager_Num_Application\tNumber of Applications sourced in the last 3 months by the Manager\n",
    "Manager_Num_Coded\tNumber of agents recruited by the manager in the last 3 months\n",
    "Manager_Business\tAmount of business sourced by the manager in the last 3 months\n",
    "Manager_Num_Products\tNumber of products sold by the manager in the last 3 months\n",
    "Manager_Business2\tAmount of business sourced by the manager in the last 3 months excluding business from their Category A advisor\n",
    "Manager_Num_Products2\tNumber of products sold by the manager in the last 3 months excluding business from their Category A advisor\n",
    "Business_Sourced(Target)\tBusiness sourced by the applicant within 3 months [1/0] of recruitment\n",
    "\n"
   ]
  },
  {
   "cell_type": "code",
   "execution_count": 1,
   "metadata": {},
   "outputs": [],
   "source": [
    "# Importing essesntial Libraries\n",
    "import pandas as pd, numpy as np, matplotlib.pyplot as plt"
   ]
  },
  {
   "cell_type": "code",
   "execution_count": 2,
   "metadata": {},
   "outputs": [
    {
     "output_type": "execute_result",
     "data": {
      "text/plain": "           ID  Office_PIN  Applicant_City_PIN Applicant_Gender  \\\n0  FIN1000001      842001              844120                M   \n1  FIN1000002      842001              844111                M   \n2  FIN1000003      800001              844101                M   \n3  FIN1000004      814112              814112                M   \n4  FIN1000005      814112              815351                M   \n5  FIN1000006      814112              814114                M   \n6  FIN1000007      842001              844118                M   \n7  FIN1000008      800001              844103                M   \n8  FIN1000009      209625              206451                M   \n9  FIN1000010      211001              212218                M   \n\n  Applicant_Marital_Status Applicant_Occupation Applicant_Qualification  \\\n0                        M               Others                Graduate   \n1                        S               Others               Class XII   \n2                        M             Business               Class XII   \n3                        S             Salaried               Class XII   \n4                        M               Others               Class XII   \n5                        S               Others               Class XII   \n6                        M             Business               Class XII   \n7                        M             Salaried               Class XII   \n8                        M             Business                Graduate   \n9                        M               Others               Class XII   \n\n  Manager_Joining_Designation Manager_Current_Designation  Manager_Grade  \\\n0                     Level 1                     Level 2            3.0   \n1                     Level 1                     Level 2            3.0   \n2                     Level 1                     Level 1            2.0   \n3                     Level 1                     Level 3            4.0   \n4                     Level 1                     Level 1            2.0   \n5                     Level 1                     Level 1            2.0   \n6                     Level 1                     Level 1            2.0   \n7                     Level 1                     Level 1            2.0   \n8                     Level 1                     Level 2            3.0   \n9                     Level 1                     Level 3            4.0   \n\n  Manager_Status Manager_Gender  Manager_Num_Application  Manager_Num_Coded  \\\n0   Confirmation              M                      2.0                1.0   \n1   Confirmation              M                      2.0                1.0   \n2   Confirmation              M                      0.0                0.0   \n3   Confirmation              F                      0.0                0.0   \n4   Confirmation              M                      2.0                1.0   \n5   Confirmation              M                      0.0                0.0   \n6   Confirmation              M                      0.0                0.0   \n7   Confirmation              M                      5.0                4.0   \n8   Confirmation              M                      0.0                0.0   \n9   Confirmation              M                      0.0                0.0   \n\n   Manager_Business  Manager_Num_Products  Manager_Business2  \\\n0          335249.0                  28.0           335249.0   \n1          335249.0                  28.0           335249.0   \n2          357184.0                  24.0           357184.0   \n3          318356.0                  22.0           318356.0   \n4          230402.0                  17.0           230402.0   \n5          247118.0                  24.0           247118.0   \n6          315119.0                  27.0           315119.0   \n7          117358.0                   9.0           117358.0   \n8          244028.0                  17.0           244028.0   \n9          851557.0                  39.0           851557.0   \n\n   Manager_Num_Products2  Business_Sourced  \n0                   28.0                 0  \n1                   28.0                 1  \n2                   24.0                 0  \n3                   22.0                 0  \n4                   17.0                 0  \n5                   24.0                 1  \n6                   27.0                 1  \n7                    9.0                 0  \n8                   17.0                 1  \n9                   39.0                 1  ",
      "text/html": "<div>\n<style scoped>\n    .dataframe tbody tr th:only-of-type {\n        vertical-align: middle;\n    }\n\n    .dataframe tbody tr th {\n        vertical-align: top;\n    }\n\n    .dataframe thead th {\n        text-align: right;\n    }\n</style>\n<table border=\"1\" class=\"dataframe\">\n  <thead>\n    <tr style=\"text-align: right;\">\n      <th></th>\n      <th>ID</th>\n      <th>Office_PIN</th>\n      <th>Applicant_City_PIN</th>\n      <th>Applicant_Gender</th>\n      <th>Applicant_Marital_Status</th>\n      <th>Applicant_Occupation</th>\n      <th>Applicant_Qualification</th>\n      <th>Manager_Joining_Designation</th>\n      <th>Manager_Current_Designation</th>\n      <th>Manager_Grade</th>\n      <th>Manager_Status</th>\n      <th>Manager_Gender</th>\n      <th>Manager_Num_Application</th>\n      <th>Manager_Num_Coded</th>\n      <th>Manager_Business</th>\n      <th>Manager_Num_Products</th>\n      <th>Manager_Business2</th>\n      <th>Manager_Num_Products2</th>\n      <th>Business_Sourced</th>\n    </tr>\n  </thead>\n  <tbody>\n    <tr>\n      <th>0</th>\n      <td>FIN1000001</td>\n      <td>842001</td>\n      <td>844120</td>\n      <td>M</td>\n      <td>M</td>\n      <td>Others</td>\n      <td>Graduate</td>\n      <td>Level 1</td>\n      <td>Level 2</td>\n      <td>3.0</td>\n      <td>Confirmation</td>\n      <td>M</td>\n      <td>2.0</td>\n      <td>1.0</td>\n      <td>335249.0</td>\n      <td>28.0</td>\n      <td>335249.0</td>\n      <td>28.0</td>\n      <td>0</td>\n    </tr>\n    <tr>\n      <th>1</th>\n      <td>FIN1000002</td>\n      <td>842001</td>\n      <td>844111</td>\n      <td>M</td>\n      <td>S</td>\n      <td>Others</td>\n      <td>Class XII</td>\n      <td>Level 1</td>\n      <td>Level 2</td>\n      <td>3.0</td>\n      <td>Confirmation</td>\n      <td>M</td>\n      <td>2.0</td>\n      <td>1.0</td>\n      <td>335249.0</td>\n      <td>28.0</td>\n      <td>335249.0</td>\n      <td>28.0</td>\n      <td>1</td>\n    </tr>\n    <tr>\n      <th>2</th>\n      <td>FIN1000003</td>\n      <td>800001</td>\n      <td>844101</td>\n      <td>M</td>\n      <td>M</td>\n      <td>Business</td>\n      <td>Class XII</td>\n      <td>Level 1</td>\n      <td>Level 1</td>\n      <td>2.0</td>\n      <td>Confirmation</td>\n      <td>M</td>\n      <td>0.0</td>\n      <td>0.0</td>\n      <td>357184.0</td>\n      <td>24.0</td>\n      <td>357184.0</td>\n      <td>24.0</td>\n      <td>0</td>\n    </tr>\n    <tr>\n      <th>3</th>\n      <td>FIN1000004</td>\n      <td>814112</td>\n      <td>814112</td>\n      <td>M</td>\n      <td>S</td>\n      <td>Salaried</td>\n      <td>Class XII</td>\n      <td>Level 1</td>\n      <td>Level 3</td>\n      <td>4.0</td>\n      <td>Confirmation</td>\n      <td>F</td>\n      <td>0.0</td>\n      <td>0.0</td>\n      <td>318356.0</td>\n      <td>22.0</td>\n      <td>318356.0</td>\n      <td>22.0</td>\n      <td>0</td>\n    </tr>\n    <tr>\n      <th>4</th>\n      <td>FIN1000005</td>\n      <td>814112</td>\n      <td>815351</td>\n      <td>M</td>\n      <td>M</td>\n      <td>Others</td>\n      <td>Class XII</td>\n      <td>Level 1</td>\n      <td>Level 1</td>\n      <td>2.0</td>\n      <td>Confirmation</td>\n      <td>M</td>\n      <td>2.0</td>\n      <td>1.0</td>\n      <td>230402.0</td>\n      <td>17.0</td>\n      <td>230402.0</td>\n      <td>17.0</td>\n      <td>0</td>\n    </tr>\n    <tr>\n      <th>5</th>\n      <td>FIN1000006</td>\n      <td>814112</td>\n      <td>814114</td>\n      <td>M</td>\n      <td>S</td>\n      <td>Others</td>\n      <td>Class XII</td>\n      <td>Level 1</td>\n      <td>Level 1</td>\n      <td>2.0</td>\n      <td>Confirmation</td>\n      <td>M</td>\n      <td>0.0</td>\n      <td>0.0</td>\n      <td>247118.0</td>\n      <td>24.0</td>\n      <td>247118.0</td>\n      <td>24.0</td>\n      <td>1</td>\n    </tr>\n    <tr>\n      <th>6</th>\n      <td>FIN1000007</td>\n      <td>842001</td>\n      <td>844118</td>\n      <td>M</td>\n      <td>M</td>\n      <td>Business</td>\n      <td>Class XII</td>\n      <td>Level 1</td>\n      <td>Level 1</td>\n      <td>2.0</td>\n      <td>Confirmation</td>\n      <td>M</td>\n      <td>0.0</td>\n      <td>0.0</td>\n      <td>315119.0</td>\n      <td>27.0</td>\n      <td>315119.0</td>\n      <td>27.0</td>\n      <td>1</td>\n    </tr>\n    <tr>\n      <th>7</th>\n      <td>FIN1000008</td>\n      <td>800001</td>\n      <td>844103</td>\n      <td>M</td>\n      <td>M</td>\n      <td>Salaried</td>\n      <td>Class XII</td>\n      <td>Level 1</td>\n      <td>Level 1</td>\n      <td>2.0</td>\n      <td>Confirmation</td>\n      <td>M</td>\n      <td>5.0</td>\n      <td>4.0</td>\n      <td>117358.0</td>\n      <td>9.0</td>\n      <td>117358.0</td>\n      <td>9.0</td>\n      <td>0</td>\n    </tr>\n    <tr>\n      <th>8</th>\n      <td>FIN1000009</td>\n      <td>209625</td>\n      <td>206451</td>\n      <td>M</td>\n      <td>M</td>\n      <td>Business</td>\n      <td>Graduate</td>\n      <td>Level 1</td>\n      <td>Level 2</td>\n      <td>3.0</td>\n      <td>Confirmation</td>\n      <td>M</td>\n      <td>0.0</td>\n      <td>0.0</td>\n      <td>244028.0</td>\n      <td>17.0</td>\n      <td>244028.0</td>\n      <td>17.0</td>\n      <td>1</td>\n    </tr>\n    <tr>\n      <th>9</th>\n      <td>FIN1000010</td>\n      <td>211001</td>\n      <td>212218</td>\n      <td>M</td>\n      <td>M</td>\n      <td>Others</td>\n      <td>Class XII</td>\n      <td>Level 1</td>\n      <td>Level 3</td>\n      <td>4.0</td>\n      <td>Confirmation</td>\n      <td>M</td>\n      <td>0.0</td>\n      <td>0.0</td>\n      <td>851557.0</td>\n      <td>39.0</td>\n      <td>851557.0</td>\n      <td>39.0</td>\n      <td>1</td>\n    </tr>\n  </tbody>\n</table>\n</div>"
     },
     "metadata": {},
     "execution_count": 2
    }
   ],
   "source": [
    "# Reading Dataset\n",
    "df= pd.read_csv(\"Train_pjb2QcD.csv\")\n",
    "df.head(10)"
   ]
  },
  {
   "cell_type": "code",
   "execution_count": 3,
   "metadata": {},
   "outputs": [
    {
     "output_type": "execute_result",
     "data": {
      "text/plain": "Index(['ID', 'Office_PIN', 'Applicant_City_PIN', 'Applicant_Gender',\n       'Applicant_Marital_Status', 'Applicant_Occupation',\n       'Applicant_Qualification', 'Manager_Joining_Designation',\n       'Manager_Current_Designation', 'Manager_Grade', 'Manager_Status',\n       'Manager_Gender', 'Manager_Num_Application', 'Manager_Num_Coded',\n       'Manager_Business', 'Manager_Num_Products', 'Manager_Business2',\n       'Manager_Num_Products2', 'Business_Sourced'],\n      dtype='object')"
     },
     "metadata": {},
     "execution_count": 3
    }
   ],
   "source": [
    "df.columns"
   ]
  },
  {
   "cell_type": "code",
   "execution_count": 4,
   "metadata": {},
   "outputs": [
    {
     "output_type": "execute_result",
     "data": {
      "text/plain": "ID                              object\nOffice_PIN                       int64\nApplicant_City_PIN               int64\nApplicant_Gender                object\nApplicant_Marital_Status        object\nApplicant_Occupation            object\nApplicant_Qualification         object\nManager_Joining_Designation     object\nManager_Current_Designation     object\nManager_Grade                  float64\nManager_Status                  object\nManager_Gender                  object\nManager_Num_Application        float64\nManager_Num_Coded              float64\nManager_Business               float64\nManager_Num_Products           float64\nManager_Business2              float64\nManager_Num_Products2          float64\nBusiness_Sourced                 int64\ndtype: object"
     },
     "metadata": {},
     "execution_count": 4
    }
   ],
   "source": [
    "df.dtypes"
   ]
  },
  {
   "cell_type": "code",
   "execution_count": 5,
   "metadata": {},
   "outputs": [
    {
     "output_type": "execute_result",
     "data": {
      "text/plain": "          Office_PIN  Applicant_City_PIN  Manager_Grade  \\\ncount    8844.000000         8844.000000    8844.000000   \nmean   450714.378562       452638.591022       3.264134   \nstd    234079.460837       238045.727919       1.137449   \nmin    110005.000000       110001.000000       1.000000   \n25%    226001.000000       226002.000000       2.000000   \n50%    416001.000000       422001.000000       3.000000   \n75%    695014.000000       695009.000000       4.000000   \nmax    851101.000000       995657.000000      10.000000   \n\n       Manager_Num_Application  Manager_Num_Coded  Manager_Business  \\\ncount              8844.000000        8844.000000      8.844000e+03   \nmean                  1.939733           0.758933      1.843710e+05   \nstd                   2.150529           1.188644      2.747163e+05   \nmin                   0.000000           0.000000     -2.652890e+05   \n25%                   0.000000           0.000000      0.000000e+00   \n50%                   1.000000           0.000000      1.021780e+05   \n75%                   3.000000           1.000000      2.471165e+05   \nmax                  22.000000           9.000000      3.578265e+06   \n\n       Manager_Num_Products  Manager_Business2  Manager_Num_Products2  \\\ncount           8844.000000       8.844000e+03            8844.000000   \nmean               7.152307       1.829263e+05               7.131275   \nstd                8.439351       2.718021e+05               8.423597   \nmin                0.000000      -2.652890e+05               0.000000   \n25%                0.000000       0.000000e+00               0.000000   \n50%                5.000000       1.017140e+05               5.000000   \n75%               11.000000       2.464612e+05              11.000000   \nmax              101.000000       3.578265e+06             101.000000   \n\n       Business_Sourced  \ncount       8844.000000  \nmean           0.342718  \nstd            0.474645  \nmin            0.000000  \n25%            0.000000  \n50%            0.000000  \n75%            1.000000  \nmax            1.000000  ",
      "text/html": "<div>\n<style scoped>\n    .dataframe tbody tr th:only-of-type {\n        vertical-align: middle;\n    }\n\n    .dataframe tbody tr th {\n        vertical-align: top;\n    }\n\n    .dataframe thead th {\n        text-align: right;\n    }\n</style>\n<table border=\"1\" class=\"dataframe\">\n  <thead>\n    <tr style=\"text-align: right;\">\n      <th></th>\n      <th>Office_PIN</th>\n      <th>Applicant_City_PIN</th>\n      <th>Manager_Grade</th>\n      <th>Manager_Num_Application</th>\n      <th>Manager_Num_Coded</th>\n      <th>Manager_Business</th>\n      <th>Manager_Num_Products</th>\n      <th>Manager_Business2</th>\n      <th>Manager_Num_Products2</th>\n      <th>Business_Sourced</th>\n    </tr>\n  </thead>\n  <tbody>\n    <tr>\n      <th>count</th>\n      <td>8844.000000</td>\n      <td>8844.000000</td>\n      <td>8844.000000</td>\n      <td>8844.000000</td>\n      <td>8844.000000</td>\n      <td>8.844000e+03</td>\n      <td>8844.000000</td>\n      <td>8.844000e+03</td>\n      <td>8844.000000</td>\n      <td>8844.000000</td>\n    </tr>\n    <tr>\n      <th>mean</th>\n      <td>450714.378562</td>\n      <td>452638.591022</td>\n      <td>3.264134</td>\n      <td>1.939733</td>\n      <td>0.758933</td>\n      <td>1.843710e+05</td>\n      <td>7.152307</td>\n      <td>1.829263e+05</td>\n      <td>7.131275</td>\n      <td>0.342718</td>\n    </tr>\n    <tr>\n      <th>std</th>\n      <td>234079.460837</td>\n      <td>238045.727919</td>\n      <td>1.137449</td>\n      <td>2.150529</td>\n      <td>1.188644</td>\n      <td>2.747163e+05</td>\n      <td>8.439351</td>\n      <td>2.718021e+05</td>\n      <td>8.423597</td>\n      <td>0.474645</td>\n    </tr>\n    <tr>\n      <th>min</th>\n      <td>110005.000000</td>\n      <td>110001.000000</td>\n      <td>1.000000</td>\n      <td>0.000000</td>\n      <td>0.000000</td>\n      <td>-2.652890e+05</td>\n      <td>0.000000</td>\n      <td>-2.652890e+05</td>\n      <td>0.000000</td>\n      <td>0.000000</td>\n    </tr>\n    <tr>\n      <th>25%</th>\n      <td>226001.000000</td>\n      <td>226002.000000</td>\n      <td>2.000000</td>\n      <td>0.000000</td>\n      <td>0.000000</td>\n      <td>0.000000e+00</td>\n      <td>0.000000</td>\n      <td>0.000000e+00</td>\n      <td>0.000000</td>\n      <td>0.000000</td>\n    </tr>\n    <tr>\n      <th>50%</th>\n      <td>416001.000000</td>\n      <td>422001.000000</td>\n      <td>3.000000</td>\n      <td>1.000000</td>\n      <td>0.000000</td>\n      <td>1.021780e+05</td>\n      <td>5.000000</td>\n      <td>1.017140e+05</td>\n      <td>5.000000</td>\n      <td>0.000000</td>\n    </tr>\n    <tr>\n      <th>75%</th>\n      <td>695014.000000</td>\n      <td>695009.000000</td>\n      <td>4.000000</td>\n      <td>3.000000</td>\n      <td>1.000000</td>\n      <td>2.471165e+05</td>\n      <td>11.000000</td>\n      <td>2.464612e+05</td>\n      <td>11.000000</td>\n      <td>1.000000</td>\n    </tr>\n    <tr>\n      <th>max</th>\n      <td>851101.000000</td>\n      <td>995657.000000</td>\n      <td>10.000000</td>\n      <td>22.000000</td>\n      <td>9.000000</td>\n      <td>3.578265e+06</td>\n      <td>101.000000</td>\n      <td>3.578265e+06</td>\n      <td>101.000000</td>\n      <td>1.000000</td>\n    </tr>\n  </tbody>\n</table>\n</div>"
     },
     "metadata": {},
     "execution_count": 5
    }
   ],
   "source": [
    "df.describe()"
   ]
  },
  {
   "cell_type": "code",
   "execution_count": 6,
   "metadata": {},
   "outputs": [
    {
     "output_type": "execute_result",
     "data": {
      "text/plain": "                         Office_PIN  Applicant_City_PIN  Manager_Grade  \\\nOffice_PIN                 1.000000            0.967030      -0.077063   \nApplicant_City_PIN         0.967030            1.000000      -0.092160   \nManager_Grade             -0.077063           -0.092160       1.000000   \nManager_Num_Application    0.061672            0.051295      -0.022524   \nManager_Num_Coded          0.066030            0.057324      -0.002833   \nManager_Business           0.093603            0.087860       0.322211   \nManager_Num_Products       0.132186            0.130968       0.210353   \nManager_Business2          0.093386            0.087718       0.320644   \nManager_Num_Products2      0.131747            0.130548       0.209886   \nBusiness_Sourced           0.037536            0.039544       0.059363   \n\n                         Manager_Num_Application  Manager_Num_Coded  \\\nOffice_PIN                              0.061672           0.066030   \nApplicant_City_PIN                      0.051295           0.057324   \nManager_Grade                          -0.022524          -0.002833   \nManager_Num_Application                 1.000000           0.514299   \nManager_Num_Coded                       0.514299           1.000000   \nManager_Business                        0.014605           0.152858   \nManager_Num_Products                   -0.030293           0.129490   \nManager_Business2                       0.015871           0.155289   \nManager_Num_Products2                  -0.029977           0.130039   \nBusiness_Sourced                       -0.037593           0.013565   \n\n                         Manager_Business  Manager_Num_Products  \\\nOffice_PIN                       0.093603              0.132186   \nApplicant_City_PIN               0.087860              0.130968   \nManager_Grade                    0.322211              0.210353   \nManager_Num_Application          0.014605             -0.030293   \nManager_Num_Coded                0.152858              0.129490   \nManager_Business                 1.000000              0.733880   \nManager_Num_Products             0.733880              1.000000   \nManager_Business2                0.994422              0.736272   \nManager_Num_Products2            0.729147              0.998893   \nBusiness_Sourced                 0.031578             -0.011000   \n\n                         Manager_Business2  Manager_Num_Products2  \\\nOffice_PIN                        0.093386               0.131747   \nApplicant_City_PIN                0.087718               0.130548   \nManager_Grade                     0.320644               0.209886   \nManager_Num_Application           0.015871              -0.029977   \nManager_Num_Coded                 0.155289               0.130039   \nManager_Business                  0.994422               0.729147   \nManager_Num_Products              0.736272               0.998893   \nManager_Business2                 1.000000               0.735594   \nManager_Num_Products2             0.735594               1.000000   \nBusiness_Sourced                  0.031093              -0.011706   \n\n                         Business_Sourced  \nOffice_PIN                       0.037536  \nApplicant_City_PIN               0.039544  \nManager_Grade                    0.059363  \nManager_Num_Application         -0.037593  \nManager_Num_Coded                0.013565  \nManager_Business                 0.031578  \nManager_Num_Products            -0.011000  \nManager_Business2                0.031093  \nManager_Num_Products2           -0.011706  \nBusiness_Sourced                 1.000000  ",
      "text/html": "<div>\n<style scoped>\n    .dataframe tbody tr th:only-of-type {\n        vertical-align: middle;\n    }\n\n    .dataframe tbody tr th {\n        vertical-align: top;\n    }\n\n    .dataframe thead th {\n        text-align: right;\n    }\n</style>\n<table border=\"1\" class=\"dataframe\">\n  <thead>\n    <tr style=\"text-align: right;\">\n      <th></th>\n      <th>Office_PIN</th>\n      <th>Applicant_City_PIN</th>\n      <th>Manager_Grade</th>\n      <th>Manager_Num_Application</th>\n      <th>Manager_Num_Coded</th>\n      <th>Manager_Business</th>\n      <th>Manager_Num_Products</th>\n      <th>Manager_Business2</th>\n      <th>Manager_Num_Products2</th>\n      <th>Business_Sourced</th>\n    </tr>\n  </thead>\n  <tbody>\n    <tr>\n      <th>Office_PIN</th>\n      <td>1.000000</td>\n      <td>0.967030</td>\n      <td>-0.077063</td>\n      <td>0.061672</td>\n      <td>0.066030</td>\n      <td>0.093603</td>\n      <td>0.132186</td>\n      <td>0.093386</td>\n      <td>0.131747</td>\n      <td>0.037536</td>\n    </tr>\n    <tr>\n      <th>Applicant_City_PIN</th>\n      <td>0.967030</td>\n      <td>1.000000</td>\n      <td>-0.092160</td>\n      <td>0.051295</td>\n      <td>0.057324</td>\n      <td>0.087860</td>\n      <td>0.130968</td>\n      <td>0.087718</td>\n      <td>0.130548</td>\n      <td>0.039544</td>\n    </tr>\n    <tr>\n      <th>Manager_Grade</th>\n      <td>-0.077063</td>\n      <td>-0.092160</td>\n      <td>1.000000</td>\n      <td>-0.022524</td>\n      <td>-0.002833</td>\n      <td>0.322211</td>\n      <td>0.210353</td>\n      <td>0.320644</td>\n      <td>0.209886</td>\n      <td>0.059363</td>\n    </tr>\n    <tr>\n      <th>Manager_Num_Application</th>\n      <td>0.061672</td>\n      <td>0.051295</td>\n      <td>-0.022524</td>\n      <td>1.000000</td>\n      <td>0.514299</td>\n      <td>0.014605</td>\n      <td>-0.030293</td>\n      <td>0.015871</td>\n      <td>-0.029977</td>\n      <td>-0.037593</td>\n    </tr>\n    <tr>\n      <th>Manager_Num_Coded</th>\n      <td>0.066030</td>\n      <td>0.057324</td>\n      <td>-0.002833</td>\n      <td>0.514299</td>\n      <td>1.000000</td>\n      <td>0.152858</td>\n      <td>0.129490</td>\n      <td>0.155289</td>\n      <td>0.130039</td>\n      <td>0.013565</td>\n    </tr>\n    <tr>\n      <th>Manager_Business</th>\n      <td>0.093603</td>\n      <td>0.087860</td>\n      <td>0.322211</td>\n      <td>0.014605</td>\n      <td>0.152858</td>\n      <td>1.000000</td>\n      <td>0.733880</td>\n      <td>0.994422</td>\n      <td>0.729147</td>\n      <td>0.031578</td>\n    </tr>\n    <tr>\n      <th>Manager_Num_Products</th>\n      <td>0.132186</td>\n      <td>0.130968</td>\n      <td>0.210353</td>\n      <td>-0.030293</td>\n      <td>0.129490</td>\n      <td>0.733880</td>\n      <td>1.000000</td>\n      <td>0.736272</td>\n      <td>0.998893</td>\n      <td>-0.011000</td>\n    </tr>\n    <tr>\n      <th>Manager_Business2</th>\n      <td>0.093386</td>\n      <td>0.087718</td>\n      <td>0.320644</td>\n      <td>0.015871</td>\n      <td>0.155289</td>\n      <td>0.994422</td>\n      <td>0.736272</td>\n      <td>1.000000</td>\n      <td>0.735594</td>\n      <td>0.031093</td>\n    </tr>\n    <tr>\n      <th>Manager_Num_Products2</th>\n      <td>0.131747</td>\n      <td>0.130548</td>\n      <td>0.209886</td>\n      <td>-0.029977</td>\n      <td>0.130039</td>\n      <td>0.729147</td>\n      <td>0.998893</td>\n      <td>0.735594</td>\n      <td>1.000000</td>\n      <td>-0.011706</td>\n    </tr>\n    <tr>\n      <th>Business_Sourced</th>\n      <td>0.037536</td>\n      <td>0.039544</td>\n      <td>0.059363</td>\n      <td>-0.037593</td>\n      <td>0.013565</td>\n      <td>0.031578</td>\n      <td>-0.011000</td>\n      <td>0.031093</td>\n      <td>-0.011706</td>\n      <td>1.000000</td>\n    </tr>\n  </tbody>\n</table>\n</div>"
     },
     "metadata": {},
     "execution_count": 6
    }
   ],
   "source": [
    "df.corr()"
   ]
  },
  {
   "cell_type": "markdown",
   "metadata": {},
   "source": [
    "## Imputing Missing values"
   ]
  },
  {
   "cell_type": "code",
   "execution_count": 7,
   "metadata": {},
   "outputs": [
    {
     "output_type": "execute_result",
     "data": {
      "text/plain": "ID                                0\nOffice_PIN                        0\nApplicant_City_PIN                0\nApplicant_Gender                 53\nApplicant_Marital_Status         59\nApplicant_Occupation           1090\nApplicant_Qualification          71\nManager_Joining_Designation       0\nManager_Current_Designation       0\nManager_Grade                     0\nManager_Status                    0\nManager_Gender                    0\nManager_Num_Application           0\nManager_Num_Coded                 0\nManager_Business                  0\nManager_Num_Products              0\nManager_Business2                 0\nManager_Num_Products2             0\nBusiness_Sourced                  0\ndtype: int64"
     },
     "metadata": {},
     "execution_count": 7
    }
   ],
   "source": [
    "df.isnull().sum()"
   ]
  },
  {
   "cell_type": "code",
   "execution_count": 8,
   "metadata": {},
   "outputs": [
    {
     "output_type": "execute_result",
     "data": {
      "text/plain": "M    6656\nF    2135\nName: Applicant_Gender, dtype: int64"
     },
     "metadata": {},
     "execution_count": 8
    }
   ],
   "source": [
    "df['Applicant_Gender'].value_counts()"
   ]
  },
  {
   "cell_type": "code",
   "execution_count": 9,
   "metadata": {},
   "outputs": [],
   "source": [
    "#Imputing  missing values with mode\n",
    "df['Applicant_Gender'].fillna('M', inplace=True)"
   ]
  },
  {
   "cell_type": "code",
   "execution_count": 10,
   "metadata": {},
   "outputs": [
    {
     "output_type": "execute_result",
     "data": {
      "text/plain": "M    5733\nS    3042\nW       6\nD       4\nName: Applicant_Marital_Status, dtype: int64"
     },
     "metadata": {},
     "execution_count": 10
    }
   ],
   "source": [
    "df['Applicant_Marital_Status'].value_counts()"
   ]
  },
  {
   "cell_type": "code",
   "execution_count": 11,
   "metadata": {},
   "outputs": [],
   "source": [
    "#Imputing  missing values with mode\n",
    "df['Applicant_Marital_Status'].fillna('M', inplace=True)"
   ]
  },
  {
   "cell_type": "code",
   "execution_count": 12,
   "metadata": {},
   "outputs": [
    {
     "output_type": "execute_result",
     "data": {
      "text/plain": "Salaried         3546\nBusiness         2157\nOthers           1809\nSelf Employed     146\nStudent            96\nName: Applicant_Occupation, dtype: int64"
     },
     "metadata": {},
     "execution_count": 12
    }
   ],
   "source": [
    "df['Applicant_Occupation'].value_counts()"
   ]
  },
  {
   "cell_type": "code",
   "execution_count": 13,
   "metadata": {},
   "outputs": [],
   "source": [
    "#Imputing  missing values with mode\n",
    "df['Applicant_Occupation'].fillna('Salaried', inplace=True)"
   ]
  },
  {
   "cell_type": "code",
   "execution_count": 14,
   "metadata": {},
   "outputs": [
    {
     "output_type": "execute_result",
     "data": {
      "text/plain": "Class XII                                                           5426\nGraduate                                                            2958\nClass X                                                              195\nOthers                                                               116\nMasters of Business Administration                                    71\nAssociate / Fellow of Institute of Chartered Accountans of India       3\nAssociate/Fellow of Insurance Institute of India                       1\nAssociate/Fellow of Acturial Society of India                          1\nAssociate/Fellow of Institute of Company Secretories of India          1\nProfessional Qualification in Marketing                                1\nName: Applicant_Qualification, dtype: int64"
     },
     "metadata": {},
     "execution_count": 14
    }
   ],
   "source": [
    "df['Applicant_Qualification'].value_counts()"
   ]
  },
  {
   "cell_type": "code",
   "execution_count": 15,
   "metadata": {},
   "outputs": [],
   "source": [
    "df['Applicant_Qualification'].fillna('Class XII', inplace=True)"
   ]
  },
  {
   "cell_type": "code",
   "execution_count": 16,
   "metadata": {},
   "outputs": [
    {
     "output_type": "execute_result",
     "data": {
      "text/plain": "ID                             0\nOffice_PIN                     0\nApplicant_City_PIN             0\nApplicant_Gender               0\nApplicant_Marital_Status       0\nApplicant_Occupation           0\nApplicant_Qualification        0\nManager_Joining_Designation    0\nManager_Current_Designation    0\nManager_Grade                  0\nManager_Status                 0\nManager_Gender                 0\nManager_Num_Application        0\nManager_Num_Coded              0\nManager_Business               0\nManager_Num_Products           0\nManager_Business2              0\nManager_Num_Products2          0\nBusiness_Sourced               0\ndtype: int64"
     },
     "metadata": {},
     "execution_count": 16
    }
   ],
   "source": [
    "df.isnull().sum()"
   ]
  },
  {
   "cell_type": "markdown",
   "metadata": {},
   "source": [
    "### All missing values imputed with their mode."
   ]
  },
  {
   "cell_type": "markdown",
   "metadata": {},
   "source": [
    "## Dealing with categorical variables"
   ]
  },
  {
   "cell_type": "code",
   "execution_count": 17,
   "metadata": {},
   "outputs": [
    {
     "output_type": "execute_result",
     "data": {
      "text/plain": "Index(['ID', 'Office_PIN', 'Applicant_City_PIN', 'Applicant_Gender',\n       'Applicant_Marital_Status', 'Applicant_Occupation',\n       'Applicant_Qualification', 'Manager_Joining_Designation',\n       'Manager_Current_Designation', 'Manager_Grade', 'Manager_Status',\n       'Manager_Gender', 'Manager_Num_Application', 'Manager_Num_Coded',\n       'Manager_Business', 'Manager_Num_Products', 'Manager_Business2',\n       'Manager_Num_Products2', 'Business_Sourced'],\n      dtype='object')"
     },
     "metadata": {},
     "execution_count": 17
    }
   ],
   "source": [
    "df.columns"
   ]
  },
  {
   "cell_type": "code",
   "execution_count": 18,
   "metadata": {},
   "outputs": [],
   "source": [
    "cat_cols=['Applicant_Gender','Applicant_Marital_Status','Applicant_Occupation','Applicant_Qualification','Manager_Joining_Designation', 'Manager_Current_Designation', 'Manager_Status', 'Manager_Gender']"
   ]
  },
  {
   "cell_type": "code",
   "execution_count": 19,
   "metadata": {
    "tags": []
   },
   "outputs": [
    {
     "output_type": "stream",
     "name": "stdout",
     "text": "-----   Applicant_Gender   -----\nM    6709\nF    2135\nName: Applicant_Gender, dtype: int64\n\n-----   Applicant_Marital_Status   -----\nM    5792\nS    3042\nW       6\nD       4\nName: Applicant_Marital_Status, dtype: int64\n\n-----   Applicant_Occupation   -----\nSalaried         4636\nBusiness         2157\nOthers           1809\nSelf Employed     146\nStudent            96\nName: Applicant_Occupation, dtype: int64\n\n-----   Applicant_Qualification   -----\nClass XII                                                           5497\nGraduate                                                            2958\nClass X                                                              195\nOthers                                                               116\nMasters of Business Administration                                    71\nAssociate / Fellow of Institute of Chartered Accountans of India       3\nAssociate/Fellow of Insurance Institute of India                       1\nAssociate/Fellow of Acturial Society of India                          1\nAssociate/Fellow of Institute of Company Secretories of India          1\nProfessional Qualification in Marketing                                1\nName: Applicant_Qualification, dtype: int64\n\n-----   Manager_Joining_Designation   -----\nLevel 1    4632\nLevel 2    2787\nLevel 3    1146\nLevel 4     200\nOther        58\nLevel 6      18\nLevel 7       2\nLevel 5       1\nName: Manager_Joining_Designation, dtype: int64\n\n-----   Manager_Current_Designation   -----\nLevel 2    3208\nLevel 1    2479\nLevel 3    2033\nLevel 4    1031\nLevel 5      93\nName: Manager_Current_Designation, dtype: int64\n\n-----   Manager_Status   -----\nConfirmation    5277\nProbation       3567\nName: Manager_Status, dtype: int64\n\n-----   Manager_Gender   -----\nM    7627\nF    1217\nName: Manager_Gender, dtype: int64\n\n"
    }
   ],
   "source": [
    "for col in cat_cols:\n",
    "    print(f\"-----   {col}   -----\")\n",
    "    print(df[col].value_counts())\n",
    "    print(\"\")"
   ]
  },
  {
   "cell_type": "markdown",
   "metadata": {},
   "source": [
    "#### No inacurate data found."
   ]
  },
  {
   "cell_type": "code",
   "execution_count": 20,
   "metadata": {},
   "outputs": [
    {
     "output_type": "execute_result",
     "data": {
      "text/plain": "           ID  Office_PIN  Applicant_City_PIN Applicant_Gender  \\\n0  FIN1000001      842001              844120                M   \n1  FIN1000002      842001              844111                M   \n2  FIN1000003      800001              844101                M   \n3  FIN1000004      814112              814112                M   \n4  FIN1000005      814112              815351                M   \n\n  Applicant_Marital_Status Applicant_Occupation Applicant_Qualification  \\\n0                        M               Others                Graduate   \n1                        S               Others               Class XII   \n2                        M             Business               Class XII   \n3                        S             Salaried               Class XII   \n4                        M               Others               Class XII   \n\n  Manager_Joining_Designation Manager_Current_Designation  Manager_Grade  \\\n0                     Level 1                     Level 2            3.0   \n1                     Level 1                     Level 2            3.0   \n2                     Level 1                     Level 1            2.0   \n3                     Level 1                     Level 3            4.0   \n4                     Level 1                     Level 1            2.0   \n\n  Manager_Status Manager_Gender  Manager_Num_Application  Manager_Num_Coded  \\\n0   Confirmation              M                      2.0                1.0   \n1   Confirmation              M                      2.0                1.0   \n2   Confirmation              M                      0.0                0.0   \n3   Confirmation              F                      0.0                0.0   \n4   Confirmation              M                      2.0                1.0   \n\n   Manager_Business  Manager_Num_Products  Manager_Business2  \\\n0          335249.0                  28.0           335249.0   \n1          335249.0                  28.0           335249.0   \n2          357184.0                  24.0           357184.0   \n3          318356.0                  22.0           318356.0   \n4          230402.0                  17.0           230402.0   \n\n   Manager_Num_Products2  Business_Sourced  \n0                   28.0                 0  \n1                   28.0                 1  \n2                   24.0                 0  \n3                   22.0                 0  \n4                   17.0                 0  ",
      "text/html": "<div>\n<style scoped>\n    .dataframe tbody tr th:only-of-type {\n        vertical-align: middle;\n    }\n\n    .dataframe tbody tr th {\n        vertical-align: top;\n    }\n\n    .dataframe thead th {\n        text-align: right;\n    }\n</style>\n<table border=\"1\" class=\"dataframe\">\n  <thead>\n    <tr style=\"text-align: right;\">\n      <th></th>\n      <th>ID</th>\n      <th>Office_PIN</th>\n      <th>Applicant_City_PIN</th>\n      <th>Applicant_Gender</th>\n      <th>Applicant_Marital_Status</th>\n      <th>Applicant_Occupation</th>\n      <th>Applicant_Qualification</th>\n      <th>Manager_Joining_Designation</th>\n      <th>Manager_Current_Designation</th>\n      <th>Manager_Grade</th>\n      <th>Manager_Status</th>\n      <th>Manager_Gender</th>\n      <th>Manager_Num_Application</th>\n      <th>Manager_Num_Coded</th>\n      <th>Manager_Business</th>\n      <th>Manager_Num_Products</th>\n      <th>Manager_Business2</th>\n      <th>Manager_Num_Products2</th>\n      <th>Business_Sourced</th>\n    </tr>\n  </thead>\n  <tbody>\n    <tr>\n      <th>0</th>\n      <td>FIN1000001</td>\n      <td>842001</td>\n      <td>844120</td>\n      <td>M</td>\n      <td>M</td>\n      <td>Others</td>\n      <td>Graduate</td>\n      <td>Level 1</td>\n      <td>Level 2</td>\n      <td>3.0</td>\n      <td>Confirmation</td>\n      <td>M</td>\n      <td>2.0</td>\n      <td>1.0</td>\n      <td>335249.0</td>\n      <td>28.0</td>\n      <td>335249.0</td>\n      <td>28.0</td>\n      <td>0</td>\n    </tr>\n    <tr>\n      <th>1</th>\n      <td>FIN1000002</td>\n      <td>842001</td>\n      <td>844111</td>\n      <td>M</td>\n      <td>S</td>\n      <td>Others</td>\n      <td>Class XII</td>\n      <td>Level 1</td>\n      <td>Level 2</td>\n      <td>3.0</td>\n      <td>Confirmation</td>\n      <td>M</td>\n      <td>2.0</td>\n      <td>1.0</td>\n      <td>335249.0</td>\n      <td>28.0</td>\n      <td>335249.0</td>\n      <td>28.0</td>\n      <td>1</td>\n    </tr>\n    <tr>\n      <th>2</th>\n      <td>FIN1000003</td>\n      <td>800001</td>\n      <td>844101</td>\n      <td>M</td>\n      <td>M</td>\n      <td>Business</td>\n      <td>Class XII</td>\n      <td>Level 1</td>\n      <td>Level 1</td>\n      <td>2.0</td>\n      <td>Confirmation</td>\n      <td>M</td>\n      <td>0.0</td>\n      <td>0.0</td>\n      <td>357184.0</td>\n      <td>24.0</td>\n      <td>357184.0</td>\n      <td>24.0</td>\n      <td>0</td>\n    </tr>\n    <tr>\n      <th>3</th>\n      <td>FIN1000004</td>\n      <td>814112</td>\n      <td>814112</td>\n      <td>M</td>\n      <td>S</td>\n      <td>Salaried</td>\n      <td>Class XII</td>\n      <td>Level 1</td>\n      <td>Level 3</td>\n      <td>4.0</td>\n      <td>Confirmation</td>\n      <td>F</td>\n      <td>0.0</td>\n      <td>0.0</td>\n      <td>318356.0</td>\n      <td>22.0</td>\n      <td>318356.0</td>\n      <td>22.0</td>\n      <td>0</td>\n    </tr>\n    <tr>\n      <th>4</th>\n      <td>FIN1000005</td>\n      <td>814112</td>\n      <td>815351</td>\n      <td>M</td>\n      <td>M</td>\n      <td>Others</td>\n      <td>Class XII</td>\n      <td>Level 1</td>\n      <td>Level 1</td>\n      <td>2.0</td>\n      <td>Confirmation</td>\n      <td>M</td>\n      <td>2.0</td>\n      <td>1.0</td>\n      <td>230402.0</td>\n      <td>17.0</td>\n      <td>230402.0</td>\n      <td>17.0</td>\n      <td>0</td>\n    </tr>\n  </tbody>\n</table>\n</div>"
     },
     "metadata": {},
     "execution_count": 20
    }
   ],
   "source": [
    "df.head()"
   ]
  },
  {
   "cell_type": "code",
   "execution_count": 21,
   "metadata": {},
   "outputs": [
    {
     "output_type": "execute_result",
     "data": {
      "text/plain": "ID                              object\nOffice_PIN                       int64\nApplicant_City_PIN               int64\nApplicant_Gender                object\nApplicant_Marital_Status        object\nApplicant_Occupation            object\nApplicant_Qualification         object\nManager_Joining_Designation     object\nManager_Current_Designation     object\nManager_Grade                  float64\nManager_Status                  object\nManager_Gender                  object\nManager_Num_Application        float64\nManager_Num_Coded              float64\nManager_Business               float64\nManager_Num_Products           float64\nManager_Business2              float64\nManager_Num_Products2          float64\nBusiness_Sourced                 int64\ndtype: object"
     },
     "metadata": {},
     "execution_count": 21
    }
   ],
   "source": [
    "df.dtypes"
   ]
  },
  {
   "cell_type": "code",
   "execution_count": 22,
   "metadata": {},
   "outputs": [],
   "source": [
    "df= df.drop(['ID'], axis=1)"
   ]
  },
  {
   "cell_type": "code",
   "execution_count": 23,
   "metadata": {},
   "outputs": [],
   "source": [
    "df= pd.get_dummies(df)"
   ]
  },
  {
   "cell_type": "code",
   "execution_count": 24,
   "metadata": {},
   "outputs": [
    {
     "output_type": "execute_result",
     "data": {
      "text/plain": "   Office_PIN  Applicant_City_PIN  Manager_Grade  Manager_Num_Application  \\\n0      842001              844120            3.0                      2.0   \n1      842001              844111            3.0                      2.0   \n2      800001              844101            2.0                      0.0   \n3      814112              814112            4.0                      0.0   \n4      814112              815351            2.0                      2.0   \n\n   Manager_Num_Coded  Manager_Business  Manager_Num_Products  \\\n0                1.0          335249.0                  28.0   \n1                1.0          335249.0                  28.0   \n2                0.0          357184.0                  24.0   \n3                0.0          318356.0                  22.0   \n4                1.0          230402.0                  17.0   \n\n   Manager_Business2  Manager_Num_Products2  Business_Sourced  ...  \\\n0           335249.0                   28.0                 0  ...   \n1           335249.0                   28.0                 1  ...   \n2           357184.0                   24.0                 0  ...   \n3           318356.0                   22.0                 0  ...   \n4           230402.0                   17.0                 0  ...   \n\n   Manager_Joining_Designation_Other  Manager_Current_Designation_Level 1  \\\n0                                  0                                    0   \n1                                  0                                    0   \n2                                  0                                    1   \n3                                  0                                    0   \n4                                  0                                    1   \n\n   Manager_Current_Designation_Level 2  Manager_Current_Designation_Level 3  \\\n0                                    1                                    0   \n1                                    1                                    0   \n2                                    0                                    0   \n3                                    0                                    1   \n4                                    0                                    0   \n\n   Manager_Current_Designation_Level 4  Manager_Current_Designation_Level 5  \\\n0                                    0                                    0   \n1                                    0                                    0   \n2                                    0                                    0   \n3                                    0                                    0   \n4                                    0                                    0   \n\n   Manager_Status_Confirmation  Manager_Status_Probation  Manager_Gender_F  \\\n0                            1                         0                 0   \n1                            1                         0                 0   \n2                            1                         0                 0   \n3                            1                         0                 1   \n4                            1                         0                 0   \n\n   Manager_Gender_M  \n0                 1  \n1                 1  \n2                 1  \n3                 0  \n4                 1  \n\n[5 rows x 48 columns]",
      "text/html": "<div>\n<style scoped>\n    .dataframe tbody tr th:only-of-type {\n        vertical-align: middle;\n    }\n\n    .dataframe tbody tr th {\n        vertical-align: top;\n    }\n\n    .dataframe thead th {\n        text-align: right;\n    }\n</style>\n<table border=\"1\" class=\"dataframe\">\n  <thead>\n    <tr style=\"text-align: right;\">\n      <th></th>\n      <th>Office_PIN</th>\n      <th>Applicant_City_PIN</th>\n      <th>Manager_Grade</th>\n      <th>Manager_Num_Application</th>\n      <th>Manager_Num_Coded</th>\n      <th>Manager_Business</th>\n      <th>Manager_Num_Products</th>\n      <th>Manager_Business2</th>\n      <th>Manager_Num_Products2</th>\n      <th>Business_Sourced</th>\n      <th>...</th>\n      <th>Manager_Joining_Designation_Other</th>\n      <th>Manager_Current_Designation_Level 1</th>\n      <th>Manager_Current_Designation_Level 2</th>\n      <th>Manager_Current_Designation_Level 3</th>\n      <th>Manager_Current_Designation_Level 4</th>\n      <th>Manager_Current_Designation_Level 5</th>\n      <th>Manager_Status_Confirmation</th>\n      <th>Manager_Status_Probation</th>\n      <th>Manager_Gender_F</th>\n      <th>Manager_Gender_M</th>\n    </tr>\n  </thead>\n  <tbody>\n    <tr>\n      <th>0</th>\n      <td>842001</td>\n      <td>844120</td>\n      <td>3.0</td>\n      <td>2.0</td>\n      <td>1.0</td>\n      <td>335249.0</td>\n      <td>28.0</td>\n      <td>335249.0</td>\n      <td>28.0</td>\n      <td>0</td>\n      <td>...</td>\n      <td>0</td>\n      <td>0</td>\n      <td>1</td>\n      <td>0</td>\n      <td>0</td>\n      <td>0</td>\n      <td>1</td>\n      <td>0</td>\n      <td>0</td>\n      <td>1</td>\n    </tr>\n    <tr>\n      <th>1</th>\n      <td>842001</td>\n      <td>844111</td>\n      <td>3.0</td>\n      <td>2.0</td>\n      <td>1.0</td>\n      <td>335249.0</td>\n      <td>28.0</td>\n      <td>335249.0</td>\n      <td>28.0</td>\n      <td>1</td>\n      <td>...</td>\n      <td>0</td>\n      <td>0</td>\n      <td>1</td>\n      <td>0</td>\n      <td>0</td>\n      <td>0</td>\n      <td>1</td>\n      <td>0</td>\n      <td>0</td>\n      <td>1</td>\n    </tr>\n    <tr>\n      <th>2</th>\n      <td>800001</td>\n      <td>844101</td>\n      <td>2.0</td>\n      <td>0.0</td>\n      <td>0.0</td>\n      <td>357184.0</td>\n      <td>24.0</td>\n      <td>357184.0</td>\n      <td>24.0</td>\n      <td>0</td>\n      <td>...</td>\n      <td>0</td>\n      <td>1</td>\n      <td>0</td>\n      <td>0</td>\n      <td>0</td>\n      <td>0</td>\n      <td>1</td>\n      <td>0</td>\n      <td>0</td>\n      <td>1</td>\n    </tr>\n    <tr>\n      <th>3</th>\n      <td>814112</td>\n      <td>814112</td>\n      <td>4.0</td>\n      <td>0.0</td>\n      <td>0.0</td>\n      <td>318356.0</td>\n      <td>22.0</td>\n      <td>318356.0</td>\n      <td>22.0</td>\n      <td>0</td>\n      <td>...</td>\n      <td>0</td>\n      <td>0</td>\n      <td>0</td>\n      <td>1</td>\n      <td>0</td>\n      <td>0</td>\n      <td>1</td>\n      <td>0</td>\n      <td>1</td>\n      <td>0</td>\n    </tr>\n    <tr>\n      <th>4</th>\n      <td>814112</td>\n      <td>815351</td>\n      <td>2.0</td>\n      <td>2.0</td>\n      <td>1.0</td>\n      <td>230402.0</td>\n      <td>17.0</td>\n      <td>230402.0</td>\n      <td>17.0</td>\n      <td>0</td>\n      <td>...</td>\n      <td>0</td>\n      <td>1</td>\n      <td>0</td>\n      <td>0</td>\n      <td>0</td>\n      <td>0</td>\n      <td>1</td>\n      <td>0</td>\n      <td>0</td>\n      <td>1</td>\n    </tr>\n  </tbody>\n</table>\n<p>5 rows × 48 columns</p>\n</div>"
     },
     "metadata": {},
     "execution_count": 24
    }
   ],
   "source": [
    "df.head()"
   ]
  },
  {
   "cell_type": "markdown",
   "metadata": {},
   "source": [
    "## Logistic Regression"
   ]
  },
  {
   "cell_type": "markdown",
   "metadata": {},
   "source": [
    "# Segregating dependent and independent variables"
   ]
  },
  {
   "cell_type": "code",
   "execution_count": 25,
   "metadata": {},
   "outputs": [
    {
     "output_type": "execute_result",
     "data": {
      "text/plain": "((8844, 47), (8844,))"
     },
     "metadata": {},
     "execution_count": 25
    }
   ],
   "source": [
    "x = df.drop(['Business_Sourced'], axis=1)\n",
    "y = df['Business_Sourced']\n",
    "x.shape, y.shape"
   ]
  },
  {
   "cell_type": "code",
   "execution_count": 26,
   "metadata": {},
   "outputs": [
    {
     "output_type": "execute_result",
     "data": {
      "text/plain": "((6190, 47), (2654, 47))"
     },
     "metadata": {},
     "execution_count": 26
    }
   ],
   "source": [
    "from sklearn.model_selection import train_test_split\n",
    "trainx, testx, trainy, testy = train_test_split(x, y, test_size= 0.3, random_state= 42, stratify=y)\n",
    "trainx.shape, testx.shape"
   ]
  },
  {
   "cell_type": "code",
   "execution_count": 27,
   "metadata": {},
   "outputs": [],
   "source": [
    "# Importing essential Libraries\n",
    "from sklearn.linear_model import LogisticRegression\n",
    "from sklearn.metrics import f1_score, auc\n",
    "from sklearn.metrics import roc_auc_score"
   ]
  },
  {
   "cell_type": "code",
   "execution_count": 28,
   "metadata": {},
   "outputs": [
    {
     "output_type": "execute_result",
     "data": {
      "text/plain": "LogisticRegression(C=1.0, class_weight=None, dual=False, fit_intercept=True,\n                   intercept_scaling=1, l1_ratio=None, max_iter=100,\n                   multi_class='auto', n_jobs=None, penalty='l2',\n                   random_state=None, solver='lbfgs', tol=0.0001, verbose=0,\n                   warm_start=False)"
     },
     "metadata": {},
     "execution_count": 28
    }
   ],
   "source": [
    "# Training the model\n",
    "logreg = LogisticRegression()\n",
    "logreg.fit(trainx, trainy)"
   ]
  },
  {
   "cell_type": "code",
   "execution_count": 29,
   "metadata": {},
   "outputs": [],
   "source": [
    "pred_train= logreg.predict(trainx)\n",
    "pred_test= logreg.predict(testx)"
   ]
  },
  {
   "cell_type": "code",
   "execution_count": 30,
   "metadata": {
    "tags": []
   },
   "outputs": [
    {
     "output_type": "execute_result",
     "data": {
      "text/plain": "0.5001128575449266"
     },
     "metadata": {},
     "execution_count": 30
    }
   ],
   "source": [
    "# roc_auc_score on train set\n",
    "roc_auc_score(trainy, pred_train[:])"
   ]
  },
  {
   "cell_type": "code",
   "execution_count": 31,
   "metadata": {},
   "outputs": [
    {
     "output_type": "execute_result",
     "data": {
      "text/plain": "0.5"
     },
     "metadata": {},
     "execution_count": 31
    }
   ],
   "source": [
    "# roc_auc_score on test set\n",
    "roc_auc_score(testy, pred_test[:])"
   ]
  },
  {
   "cell_type": "markdown",
   "metadata": {},
   "source": [
    "AUC Score Pretty low for now    :("
   ]
  }
 ],
 "metadata": {
  "language_info": {
   "codemirror_mode": {
    "name": "ipython",
    "version": 3
   },
   "file_extension": ".py",
   "mimetype": "text/x-python",
   "name": "python",
   "nbconvert_exporter": "python",
   "pygments_lexer": "ipython3",
   "version": "3.7.6-final"
  },
  "orig_nbformat": 2,
  "kernelspec": {
   "name": "python3",
   "display_name": "Python 3"
  }
 },
 "nbformat": 4,
 "nbformat_minor": 2
}